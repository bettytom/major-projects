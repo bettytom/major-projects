{
  "nbformat": 4,
  "nbformat_minor": 0,
  "metadata": {
    "colab": {
      "name": "Credit_Card_Approval_ML_Prediction.ipynb",
      "provenance": [],
      "collapsed_sections": [],
      "toc_visible": true
    },
    "kernelspec": {
      "display_name": "Python 3",
      "language": "python",
      "name": "python3"
    },
    "language_info": {
      "codemirror_mode": {
        "name": "ipython",
        "version": 3
      },
      "file_extension": ".py",
      "mimetype": "text/x-python",
      "name": "python",
      "nbconvert_exporter": "python",
      "pygments_lexer": "ipython3",
      "version": "3.8.1"
    }
  },
  "cells": [
    {
      "cell_type": "markdown",
      "metadata": {
        "id": "RAK2RkKt1_7J"
      },
      "source": [
        ""
      ]
    },
    {
      "cell_type": "markdown",
      "metadata": {
        "id": "raDgzty3qz7-"
      },
      "source": [
        "**Credit Card Approval Prediction**\n",
        "\n",
        "Credit score cards are a common risk control method in the financial industry. It uses personal information and data submitted by credit card applicants to predict the probability of future defaults and credit card borrowings. The bank is able to decide whether to issue a credit card to the applicant. Credit scores can objectively quantify the magnitude of risk. "
      ]
    },
    {
      "cell_type": "markdown",
      "metadata": {
        "id": "R_wmmm4pKGVM"
      },
      "source": [
        "**Objective**\n",
        "\n",
        "Build a machine learning model to predict if an applicant is 'good' or 'bad' client, different from other tasks, the definition of 'good' or 'bad' is not given. "
      ]
    },
    {
      "cell_type": "code",
      "metadata": {
        "id": "jwEjPvg_ql25"
      },
      "source": [
        "#Import the necessary libraries\n",
        "import numpy as np\n",
        "import pandas as pd\n",
        "import matplotlib.pyplot as plt\n",
        "import seaborn as sns"
      ],
      "execution_count": null,
      "outputs": []
    },
    {
      "cell_type": "code",
      "metadata": {
        "colab": {
          "base_uri": "https://localhost:8080/",
          "height": 282
        },
        "id": "8SKh3tN81zL1",
        "outputId": "0c9ddb22-18d4-4467-aff0-59d0a46b0e3d"
      },
      "source": [
        "#Load and preview the data\n",
        "application = pd.read_csv(\"application_record.csv\")\n",
        "application.sample(5)"
      ],
      "execution_count": null,
      "outputs": [
        {
          "output_type": "execute_result",
          "data": {
            "text/html": [
              "<div>\n",
              "<style scoped>\n",
              "    .dataframe tbody tr th:only-of-type {\n",
              "        vertical-align: middle;\n",
              "    }\n",
              "\n",
              "    .dataframe tbody tr th {\n",
              "        vertical-align: top;\n",
              "    }\n",
              "\n",
              "    .dataframe thead th {\n",
              "        text-align: right;\n",
              "    }\n",
              "</style>\n",
              "<table border=\"1\" class=\"dataframe\">\n",
              "  <thead>\n",
              "    <tr style=\"text-align: right;\">\n",
              "      <th></th>\n",
              "      <th>ID</th>\n",
              "      <th>CODE_GENDER</th>\n",
              "      <th>FLAG_OWN_CAR</th>\n",
              "      <th>FLAG_OWN_REALTY</th>\n",
              "      <th>CNT_CHILDREN</th>\n",
              "      <th>AMT_INCOME_TOTAL</th>\n",
              "      <th>NAME_INCOME_TYPE</th>\n",
              "      <th>NAME_EDUCATION_TYPE</th>\n",
              "      <th>NAME_FAMILY_STATUS</th>\n",
              "      <th>NAME_HOUSING_TYPE</th>\n",
              "      <th>DAYS_BIRTH</th>\n",
              "      <th>DAYS_EMPLOYED</th>\n",
              "      <th>FLAG_MOBIL</th>\n",
              "      <th>FLAG_WORK_PHONE</th>\n",
              "      <th>FLAG_PHONE</th>\n",
              "      <th>FLAG_EMAIL</th>\n",
              "      <th>OCCUPATION_TYPE</th>\n",
              "      <th>CNT_FAM_MEMBERS</th>\n",
              "    </tr>\n",
              "  </thead>\n",
              "  <tbody>\n",
              "    <tr>\n",
              "      <th>272450</th>\n",
              "      <td>6092229</td>\n",
              "      <td>M</td>\n",
              "      <td>N</td>\n",
              "      <td>Y</td>\n",
              "      <td>1</td>\n",
              "      <td>103500.0</td>\n",
              "      <td>Commercial associate</td>\n",
              "      <td>Secondary / secondary special</td>\n",
              "      <td>Married</td>\n",
              "      <td>House / apartment</td>\n",
              "      <td>-14496</td>\n",
              "      <td>-178</td>\n",
              "      <td>1</td>\n",
              "      <td>0</td>\n",
              "      <td>0</td>\n",
              "      <td>0</td>\n",
              "      <td>Laborers</td>\n",
              "      <td>3.0</td>\n",
              "    </tr>\n",
              "    <tr>\n",
              "      <th>69757</th>\n",
              "      <td>5258193</td>\n",
              "      <td>F</td>\n",
              "      <td>N</td>\n",
              "      <td>Y</td>\n",
              "      <td>1</td>\n",
              "      <td>90000.0</td>\n",
              "      <td>Working</td>\n",
              "      <td>Secondary / secondary special</td>\n",
              "      <td>Married</td>\n",
              "      <td>House / apartment</td>\n",
              "      <td>-13329</td>\n",
              "      <td>-1159</td>\n",
              "      <td>1</td>\n",
              "      <td>0</td>\n",
              "      <td>0</td>\n",
              "      <td>0</td>\n",
              "      <td>Cooking staff</td>\n",
              "      <td>3.0</td>\n",
              "    </tr>\n",
              "    <tr>\n",
              "      <th>340245</th>\n",
              "      <td>6396833</td>\n",
              "      <td>M</td>\n",
              "      <td>Y</td>\n",
              "      <td>Y</td>\n",
              "      <td>1</td>\n",
              "      <td>288000.0</td>\n",
              "      <td>State servant</td>\n",
              "      <td>Higher education</td>\n",
              "      <td>Married</td>\n",
              "      <td>House / apartment</td>\n",
              "      <td>-13265</td>\n",
              "      <td>-2707</td>\n",
              "      <td>1</td>\n",
              "      <td>0</td>\n",
              "      <td>0</td>\n",
              "      <td>0</td>\n",
              "      <td>Core staff</td>\n",
              "      <td>3.0</td>\n",
              "    </tr>\n",
              "    <tr>\n",
              "      <th>45940</th>\n",
              "      <td>5139404</td>\n",
              "      <td>M</td>\n",
              "      <td>Y</td>\n",
              "      <td>Y</td>\n",
              "      <td>0</td>\n",
              "      <td>112500.0</td>\n",
              "      <td>Pensioner</td>\n",
              "      <td>Secondary / secondary special</td>\n",
              "      <td>Married</td>\n",
              "      <td>House / apartment</td>\n",
              "      <td>-22044</td>\n",
              "      <td>365243</td>\n",
              "      <td>1</td>\n",
              "      <td>0</td>\n",
              "      <td>0</td>\n",
              "      <td>0</td>\n",
              "      <td>NaN</td>\n",
              "      <td>2.0</td>\n",
              "    </tr>\n",
              "    <tr>\n",
              "      <th>86840</th>\n",
              "      <td>5345227</td>\n",
              "      <td>F</td>\n",
              "      <td>Y</td>\n",
              "      <td>N</td>\n",
              "      <td>0</td>\n",
              "      <td>149850.0</td>\n",
              "      <td>Commercial associate</td>\n",
              "      <td>Secondary / secondary special</td>\n",
              "      <td>Married</td>\n",
              "      <td>Municipal apartment</td>\n",
              "      <td>-14041</td>\n",
              "      <td>-915</td>\n",
              "      <td>1</td>\n",
              "      <td>0</td>\n",
              "      <td>0</td>\n",
              "      <td>0</td>\n",
              "      <td>Sales staff</td>\n",
              "      <td>2.0</td>\n",
              "    </tr>\n",
              "  </tbody>\n",
              "</table>\n",
              "</div>"
            ],
            "text/plain": [
              "             ID CODE_GENDER  ... OCCUPATION_TYPE CNT_FAM_MEMBERS\n",
              "272450  6092229           M  ...        Laborers             3.0\n",
              "69757   5258193           F  ...   Cooking staff             3.0\n",
              "340245  6396833           M  ...      Core staff             3.0\n",
              "45940   5139404           M  ...             NaN             2.0\n",
              "86840   5345227           F  ...     Sales staff             2.0\n",
              "\n",
              "[5 rows x 18 columns]"
            ]
          },
          "metadata": {
            "tags": []
          },
          "execution_count": 8
        }
      ]
    },
    {
      "cell_type": "code",
      "metadata": {
        "colab": {
          "base_uri": "https://localhost:8080/",
          "height": 195
        },
        "id": "VvwY6dFnQfpi",
        "outputId": "f5b9a6b7-e4f2-4f94-cadc-1f6ac09d407f"
      },
      "source": [
        "credit = pd.read_csv('credit_record.csv')\n",
        "credit.sample(5)"
      ],
      "execution_count": null,
      "outputs": [
        {
          "output_type": "execute_result",
          "data": {
            "text/html": [
              "<div>\n",
              "<style scoped>\n",
              "    .dataframe tbody tr th:only-of-type {\n",
              "        vertical-align: middle;\n",
              "    }\n",
              "\n",
              "    .dataframe tbody tr th {\n",
              "        vertical-align: top;\n",
              "    }\n",
              "\n",
              "    .dataframe thead th {\n",
              "        text-align: right;\n",
              "    }\n",
              "</style>\n",
              "<table border=\"1\" class=\"dataframe\">\n",
              "  <thead>\n",
              "    <tr style=\"text-align: right;\">\n",
              "      <th></th>\n",
              "      <th>ID</th>\n",
              "      <th>MONTHS_BALANCE</th>\n",
              "      <th>STATUS</th>\n",
              "    </tr>\n",
              "  </thead>\n",
              "  <tbody>\n",
              "    <tr>\n",
              "      <th>303927</th>\n",
              "      <td>5028815</td>\n",
              "      <td>-21</td>\n",
              "      <td>0</td>\n",
              "    </tr>\n",
              "    <tr>\n",
              "      <th>968846</th>\n",
              "      <td>5139575</td>\n",
              "      <td>-9</td>\n",
              "      <td>C</td>\n",
              "    </tr>\n",
              "    <tr>\n",
              "      <th>937049</th>\n",
              "      <td>5126800</td>\n",
              "      <td>-5</td>\n",
              "      <td>0</td>\n",
              "    </tr>\n",
              "    <tr>\n",
              "      <th>394549</th>\n",
              "      <td>5046234</td>\n",
              "      <td>-34</td>\n",
              "      <td>0</td>\n",
              "    </tr>\n",
              "    <tr>\n",
              "      <th>113334</th>\n",
              "      <td>5010020</td>\n",
              "      <td>-6</td>\n",
              "      <td>C</td>\n",
              "    </tr>\n",
              "  </tbody>\n",
              "</table>\n",
              "</div>"
            ],
            "text/plain": [
              "             ID  MONTHS_BALANCE STATUS\n",
              "303927  5028815             -21      0\n",
              "968846  5139575              -9      C\n",
              "937049  5126800              -5      0\n",
              "394549  5046234             -34      0\n",
              "113334  5010020              -6      C"
            ]
          },
          "metadata": {
            "tags": []
          },
          "execution_count": 9
        }
      ]
    },
    {
      "cell_type": "code",
      "metadata": {
        "colab": {
          "base_uri": "https://localhost:8080/"
        },
        "id": "AVHuSZ3jqoCN",
        "outputId": "bb0d1554-aa4b-40b8-9459-8fa3ae3cd8c5"
      },
      "source": [
        "application.dtypes"
      ],
      "execution_count": null,
      "outputs": [
        {
          "output_type": "execute_result",
          "data": {
            "text/plain": [
              "ID                       int64\n",
              "CODE_GENDER             object\n",
              "FLAG_OWN_CAR            object\n",
              "FLAG_OWN_REALTY         object\n",
              "CNT_CHILDREN             int64\n",
              "AMT_INCOME_TOTAL       float64\n",
              "NAME_INCOME_TYPE        object\n",
              "NAME_EDUCATION_TYPE     object\n",
              "NAME_FAMILY_STATUS      object\n",
              "NAME_HOUSING_TYPE       object\n",
              "DAYS_BIRTH               int64\n",
              "DAYS_EMPLOYED            int64\n",
              "FLAG_MOBIL               int64\n",
              "FLAG_WORK_PHONE          int64\n",
              "FLAG_PHONE               int64\n",
              "FLAG_EMAIL               int64\n",
              "OCCUPATION_TYPE         object\n",
              "CNT_FAM_MEMBERS        float64\n",
              "dtype: object"
            ]
          },
          "metadata": {
            "tags": []
          },
          "execution_count": 10
        }
      ]
    },
    {
      "cell_type": "code",
      "metadata": {
        "colab": {
          "base_uri": "https://localhost:8080/"
        },
        "id": "iY8YVL52oLM3",
        "outputId": "b8456735-51b5-488d-88b8-174ea5e26187"
      },
      "source": [
        "application.shape"
      ],
      "execution_count": null,
      "outputs": [
        {
          "output_type": "execute_result",
          "data": {
            "text/plain": [
              "(438557, 18)"
            ]
          },
          "metadata": {
            "tags": []
          },
          "execution_count": 11
        }
      ]
    },
    {
      "cell_type": "markdown",
      "metadata": {
        "id": "fR-7ORZFnFWt"
      },
      "source": [
        "Data Processing "
      ]
    },
    {
      "cell_type": "code",
      "metadata": {
        "colab": {
          "base_uri": "https://localhost:8080/"
        },
        "id": "urQo2DHbwyIz",
        "outputId": "1c193510-8e74-43a6-8b09-070aa702052c"
      },
      "source": [
        "#Rename the columns\n",
        "application.columns = ['id','gender','owns_car','owns_property','no_of_children','total_income','income_type','education_type','family_status','housing_type','birthday','employment_duration','owns_mobile','has_work_phone','owns_phone','owns_email','occupation_type','family_size']\n",
        "application.columns"
      ],
      "execution_count": null,
      "outputs": [
        {
          "output_type": "execute_result",
          "data": {
            "text/plain": [
              "Index(['id', 'gender', 'owns_car', 'owns_property', 'no_of_children',\n",
              "       'total_income', 'income_type', 'education_type', 'family_status',\n",
              "       'housing_type', 'birthday', 'employment_duration', 'owns_mobile',\n",
              "       'has_work_phone', 'owns_phone', 'owns_email', 'occupation_type',\n",
              "       'family_size'],\n",
              "      dtype='object')"
            ]
          },
          "metadata": {
            "tags": []
          },
          "execution_count": 12
        }
      ]
    },
    {
      "cell_type": "markdown",
      "metadata": {
        "id": "iJdngL41nPk8"
      },
      "source": [
        "Change the categorical data values to discrete values i.e (1, 0)"
      ]
    },
    {
      "cell_type": "code",
      "metadata": {
        "id": "hsxgTW_EnL_q"
      },
      "source": [
        "#Use sklearn preprocessing to Label Encoder to convert categorical data to numerical form for easy modelling\n",
        "from sklearn.preprocessing import LabelEncoder\n",
        "encode=LabelEncoder()"
      ],
      "execution_count": null,
      "outputs": []
    },
    {
      "cell_type": "code",
      "metadata": {
        "id": "0B0nclGwrEWN"
      },
      "source": [
        "\n",
        "application['gender'] = encode.fit_transform(application['gender'])\n",
        "application['owns_car'] = encode.fit_transform(application['owns_car'])\n",
        "application['owns_property'] = encode.fit_transform(application['owns_property'])\n",
        "application['income_type'] = encode.fit_transform(application['income_type'])\n",
        "application['education_type'] = encode.fit_transform(application['education_type'])\n",
        "application['family_status'] = encode.fit_transform(application['family_status'])\n",
        "application['housing_type'] = encode.fit_transform(application['housing_type'])\n",
        "application['has_work_phone'] = encode.fit_transform(application['has_work_phone'])\n",
        "application['owns_phone'] = encode.fit_transform(application['owns_phone'])\n",
        "application['owns_email'] = encode.fit_transform(application['owns_email'])"
      ],
      "execution_count": null,
      "outputs": []
    },
    {
      "cell_type": "markdown",
      "metadata": {
        "id": "40jCkcE5_rpD"
      },
      "source": [
        "Gender: Class mapping: F --> 0 M --> 1\n",
        "\n",
        "Owns_car: Class mapping: N --> 0 Y --> 1\n",
        "\n",
        "Owns_property: Class mapping: N --> 0 Y --> 1\n",
        "\n",
        "Income_Type: Class mapping: Commercial associate --> 0 Pensioner --> 1 State servant --> 2 Student --> 3 Working --> 4\n",
        "\n",
        "Education_Type: Class mapping: Academic degree --> 0 Higher education --> 1 Incomplete higher --> 2 Lower secondary --> 3 Secondary / secondary special --> 4\n",
        "\n",
        "Family_status: Class mapping: Civil marriage --> 0 Married --> 1 Separated --> 2 Single / not married --> 3 Widow --> 4\n",
        "\n",
        "Housing_Type: Class mapping: Co-op apartment --> 0 House / apartment --> 1 Municipal apartment --> 2 Office apartment --> 3 Rented apartment --> 4 With parents --> 5\n",
        "\n",
        "Owns_mobile: Class mapping: 1 --> 0\n",
        "\n",
        "has_work_phone: Class mapping: 0.0 --> 0 1.0 --> 1\n",
        "\n",
        "owns_phone: Class mapping: 0.0 --> 0 1.0 --> 1\n",
        "\n",
        "owns_email: Class mapping: 0.0 --> 0 1.0 --> 1"
      ]
    },
    {
      "cell_type": "code",
      "metadata": {
        "colab": {
          "base_uri": "https://localhost:8080/",
          "height": 363
        },
        "id": "ikt4LoEetY2Y",
        "outputId": "9bda45f3-b02d-4593-f17a-fc8f1ffab459"
      },
      "source": [
        "#Preview dataset after change\n",
        "application.sample(10)"
      ],
      "execution_count": null,
      "outputs": [
        {
          "output_type": "execute_result",
          "data": {
            "text/html": [
              "<div>\n",
              "<style scoped>\n",
              "    .dataframe tbody tr th:only-of-type {\n",
              "        vertical-align: middle;\n",
              "    }\n",
              "\n",
              "    .dataframe tbody tr th {\n",
              "        vertical-align: top;\n",
              "    }\n",
              "\n",
              "    .dataframe thead th {\n",
              "        text-align: right;\n",
              "    }\n",
              "</style>\n",
              "<table border=\"1\" class=\"dataframe\">\n",
              "  <thead>\n",
              "    <tr style=\"text-align: right;\">\n",
              "      <th></th>\n",
              "      <th>id</th>\n",
              "      <th>gender</th>\n",
              "      <th>owns_car</th>\n",
              "      <th>owns_property</th>\n",
              "      <th>no_of_children</th>\n",
              "      <th>total_income</th>\n",
              "      <th>income_type</th>\n",
              "      <th>education_type</th>\n",
              "      <th>family_status</th>\n",
              "      <th>housing_type</th>\n",
              "      <th>birthday</th>\n",
              "      <th>employment_duration</th>\n",
              "      <th>owns_mobile</th>\n",
              "      <th>has_work_phone</th>\n",
              "      <th>owns_phone</th>\n",
              "      <th>owns_email</th>\n",
              "      <th>occupation_type</th>\n",
              "      <th>family_size</th>\n",
              "    </tr>\n",
              "  </thead>\n",
              "  <tbody>\n",
              "    <tr>\n",
              "      <th>141007</th>\n",
              "      <td>5677703</td>\n",
              "      <td>0</td>\n",
              "      <td>0</td>\n",
              "      <td>1</td>\n",
              "      <td>0</td>\n",
              "      <td>112500.0</td>\n",
              "      <td>1</td>\n",
              "      <td>4</td>\n",
              "      <td>1</td>\n",
              "      <td>1</td>\n",
              "      <td>-21060</td>\n",
              "      <td>365243</td>\n",
              "      <td>1</td>\n",
              "      <td>0</td>\n",
              "      <td>0</td>\n",
              "      <td>0</td>\n",
              "      <td>NaN</td>\n",
              "      <td>2.0</td>\n",
              "    </tr>\n",
              "    <tr>\n",
              "      <th>409823</th>\n",
              "      <td>6764813</td>\n",
              "      <td>1</td>\n",
              "      <td>1</td>\n",
              "      <td>1</td>\n",
              "      <td>0</td>\n",
              "      <td>292500.0</td>\n",
              "      <td>0</td>\n",
              "      <td>4</td>\n",
              "      <td>1</td>\n",
              "      <td>1</td>\n",
              "      <td>-18461</td>\n",
              "      <td>-3622</td>\n",
              "      <td>1</td>\n",
              "      <td>1</td>\n",
              "      <td>1</td>\n",
              "      <td>0</td>\n",
              "      <td>Drivers</td>\n",
              "      <td>2.0</td>\n",
              "    </tr>\n",
              "    <tr>\n",
              "      <th>437199</th>\n",
              "      <td>6211708</td>\n",
              "      <td>0</td>\n",
              "      <td>0</td>\n",
              "      <td>0</td>\n",
              "      <td>0</td>\n",
              "      <td>67500.0</td>\n",
              "      <td>4</td>\n",
              "      <td>4</td>\n",
              "      <td>4</td>\n",
              "      <td>1</td>\n",
              "      <td>-18890</td>\n",
              "      <td>-1947</td>\n",
              "      <td>1</td>\n",
              "      <td>1</td>\n",
              "      <td>1</td>\n",
              "      <td>0</td>\n",
              "      <td>Medicine staff</td>\n",
              "      <td>1.0</td>\n",
              "    </tr>\n",
              "    <tr>\n",
              "      <th>50620</th>\n",
              "      <td>5155753</td>\n",
              "      <td>0</td>\n",
              "      <td>0</td>\n",
              "      <td>1</td>\n",
              "      <td>0</td>\n",
              "      <td>225000.0</td>\n",
              "      <td>0</td>\n",
              "      <td>1</td>\n",
              "      <td>1</td>\n",
              "      <td>1</td>\n",
              "      <td>-13822</td>\n",
              "      <td>-6054</td>\n",
              "      <td>1</td>\n",
              "      <td>0</td>\n",
              "      <td>1</td>\n",
              "      <td>1</td>\n",
              "      <td>NaN</td>\n",
              "      <td>2.0</td>\n",
              "    </tr>\n",
              "    <tr>\n",
              "      <th>199745</th>\n",
              "      <td>5892280</td>\n",
              "      <td>0</td>\n",
              "      <td>1</td>\n",
              "      <td>1</td>\n",
              "      <td>0</td>\n",
              "      <td>144000.0</td>\n",
              "      <td>1</td>\n",
              "      <td>4</td>\n",
              "      <td>1</td>\n",
              "      <td>1</td>\n",
              "      <td>-20369</td>\n",
              "      <td>365243</td>\n",
              "      <td>1</td>\n",
              "      <td>0</td>\n",
              "      <td>0</td>\n",
              "      <td>0</td>\n",
              "      <td>NaN</td>\n",
              "      <td>2.0</td>\n",
              "    </tr>\n",
              "    <tr>\n",
              "      <th>280474</th>\n",
              "      <td>6120866</td>\n",
              "      <td>0</td>\n",
              "      <td>0</td>\n",
              "      <td>1</td>\n",
              "      <td>1</td>\n",
              "      <td>216000.0</td>\n",
              "      <td>4</td>\n",
              "      <td>4</td>\n",
              "      <td>1</td>\n",
              "      <td>1</td>\n",
              "      <td>-14837</td>\n",
              "      <td>-3699</td>\n",
              "      <td>1</td>\n",
              "      <td>0</td>\n",
              "      <td>0</td>\n",
              "      <td>0</td>\n",
              "      <td>NaN</td>\n",
              "      <td>3.0</td>\n",
              "    </tr>\n",
              "    <tr>\n",
              "      <th>395471</th>\n",
              "      <td>6688557</td>\n",
              "      <td>0</td>\n",
              "      <td>0</td>\n",
              "      <td>1</td>\n",
              "      <td>0</td>\n",
              "      <td>202500.0</td>\n",
              "      <td>4</td>\n",
              "      <td>1</td>\n",
              "      <td>0</td>\n",
              "      <td>1</td>\n",
              "      <td>-10022</td>\n",
              "      <td>-448</td>\n",
              "      <td>1</td>\n",
              "      <td>0</td>\n",
              "      <td>1</td>\n",
              "      <td>1</td>\n",
              "      <td>Accountants</td>\n",
              "      <td>2.0</td>\n",
              "    </tr>\n",
              "    <tr>\n",
              "      <th>322966</th>\n",
              "      <td>6277452</td>\n",
              "      <td>0</td>\n",
              "      <td>0</td>\n",
              "      <td>1</td>\n",
              "      <td>0</td>\n",
              "      <td>292500.0</td>\n",
              "      <td>2</td>\n",
              "      <td>1</td>\n",
              "      <td>2</td>\n",
              "      <td>1</td>\n",
              "      <td>-22218</td>\n",
              "      <td>-2542</td>\n",
              "      <td>1</td>\n",
              "      <td>0</td>\n",
              "      <td>1</td>\n",
              "      <td>1</td>\n",
              "      <td>Medicine staff</td>\n",
              "      <td>1.0</td>\n",
              "    </tr>\n",
              "    <tr>\n",
              "      <th>426720</th>\n",
              "      <td>7890950</td>\n",
              "      <td>0</td>\n",
              "      <td>1</td>\n",
              "      <td>1</td>\n",
              "      <td>0</td>\n",
              "      <td>112500.0</td>\n",
              "      <td>4</td>\n",
              "      <td>4</td>\n",
              "      <td>3</td>\n",
              "      <td>1</td>\n",
              "      <td>-24626</td>\n",
              "      <td>-2698</td>\n",
              "      <td>1</td>\n",
              "      <td>0</td>\n",
              "      <td>0</td>\n",
              "      <td>0</td>\n",
              "      <td>NaN</td>\n",
              "      <td>1.0</td>\n",
              "    </tr>\n",
              "    <tr>\n",
              "      <th>410970</th>\n",
              "      <td>6779995</td>\n",
              "      <td>1</td>\n",
              "      <td>1</td>\n",
              "      <td>1</td>\n",
              "      <td>0</td>\n",
              "      <td>171000.0</td>\n",
              "      <td>4</td>\n",
              "      <td>4</td>\n",
              "      <td>1</td>\n",
              "      <td>1</td>\n",
              "      <td>-16228</td>\n",
              "      <td>-3206</td>\n",
              "      <td>1</td>\n",
              "      <td>1</td>\n",
              "      <td>0</td>\n",
              "      <td>0</td>\n",
              "      <td>Low-skill Laborers</td>\n",
              "      <td>2.0</td>\n",
              "    </tr>\n",
              "  </tbody>\n",
              "</table>\n",
              "</div>"
            ],
            "text/plain": [
              "             id  gender  owns_car  ...  owns_email     occupation_type  family_size\n",
              "141007  5677703       0         0  ...           0                 NaN          2.0\n",
              "409823  6764813       1         1  ...           0             Drivers          2.0\n",
              "437199  6211708       0         0  ...           0      Medicine staff          1.0\n",
              "50620   5155753       0         0  ...           1                 NaN          2.0\n",
              "199745  5892280       0         1  ...           0                 NaN          2.0\n",
              "280474  6120866       0         0  ...           0                 NaN          3.0\n",
              "395471  6688557       0         0  ...           1         Accountants          2.0\n",
              "322966  6277452       0         0  ...           1      Medicine staff          1.0\n",
              "426720  7890950       0         1  ...           0                 NaN          1.0\n",
              "410970  6779995       1         1  ...           0  Low-skill Laborers          2.0\n",
              "\n",
              "[10 rows x 18 columns]"
            ]
          },
          "metadata": {
            "tags": []
          },
          "execution_count": 15
        }
      ]
    },
    {
      "cell_type": "code",
      "metadata": {
        "colab": {
          "base_uri": "https://localhost:8080/"
        },
        "id": "Oiv-b7l_1g9F",
        "outputId": "7a63613c-4053-4857-b780-4917d1c3f58a"
      },
      "source": [
        "application.isnull().any()"
      ],
      "execution_count": null,
      "outputs": [
        {
          "output_type": "execute_result",
          "data": {
            "text/plain": [
              "id                     False\n",
              "gender                 False\n",
              "owns_car               False\n",
              "owns_property          False\n",
              "no_of_children         False\n",
              "total_income           False\n",
              "income_type            False\n",
              "education_type         False\n",
              "family_status          False\n",
              "housing_type           False\n",
              "birthday               False\n",
              "employment_duration    False\n",
              "owns_mobile            False\n",
              "has_work_phone         False\n",
              "owns_phone             False\n",
              "owns_email             False\n",
              "occupation_type         True\n",
              "family_size            False\n",
              "dtype: bool"
            ]
          },
          "metadata": {
            "tags": []
          },
          "execution_count": 16
        }
      ]
    },
    {
      "cell_type": "code",
      "metadata": {
        "colab": {
          "base_uri": "https://localhost:8080/"
        },
        "id": "lnTUxmz71t2Q",
        "outputId": "1581267e-1da0-43cd-e38e-e6adbf7a1b3a"
      },
      "source": [
        "application.isnull().sum()"
      ],
      "execution_count": null,
      "outputs": [
        {
          "output_type": "execute_result",
          "data": {
            "text/plain": [
              "id                          0\n",
              "gender                      0\n",
              "owns_car                    0\n",
              "owns_property               0\n",
              "no_of_children              0\n",
              "total_income                0\n",
              "income_type                 0\n",
              "education_type              0\n",
              "family_status               0\n",
              "housing_type                0\n",
              "birthday                    0\n",
              "employment_duration         0\n",
              "owns_mobile                 0\n",
              "has_work_phone              0\n",
              "owns_phone                  0\n",
              "owns_email                  0\n",
              "occupation_type        134203\n",
              "family_size                 0\n",
              "dtype: int64"
            ]
          },
          "metadata": {
            "tags": []
          },
          "execution_count": 17
        }
      ]
    },
    {
      "cell_type": "code",
      "metadata": {
        "colab": {
          "base_uri": "https://localhost:8080/"
        },
        "id": "APfKKkXu5bCI",
        "outputId": "17d0ba31-cc55-473b-b849-d447acde5128"
      },
      "source": [
        "#Consider dropping occupation_type\n",
        "#Check impact\n",
        "application['occupation_type']"
      ],
      "execution_count": null,
      "outputs": [
        {
          "output_type": "execute_result",
          "data": {
            "text/plain": [
              "0                    NaN\n",
              "1                    NaN\n",
              "2         Security staff\n",
              "3            Sales staff\n",
              "4            Sales staff\n",
              "               ...      \n",
              "438552               NaN\n",
              "438553          Laborers\n",
              "438554       Sales staff\n",
              "438555               NaN\n",
              "438556       Sales staff\n",
              "Name: occupation_type, Length: 438557, dtype: object"
            ]
          },
          "metadata": {
            "tags": []
          },
          "execution_count": 18
        }
      ]
    },
    {
      "cell_type": "code",
      "metadata": {
        "colab": {
          "base_uri": "https://localhost:8080/",
          "height": 215
        },
        "id": "uZI4l16aBddm",
        "outputId": "d78c5028-5fe2-4c6b-adc7-e763e681840b"
      },
      "source": [
        "#Drop occupation_type column since it has many missing values that may not be easy to fill.\n",
        "#application.drop(['occupation_type'], axis = 1, inplace = True) \n",
        "application.head()"
      ],
      "execution_count": null,
      "outputs": [
        {
          "output_type": "execute_result",
          "data": {
            "text/html": [
              "<div>\n",
              "<style scoped>\n",
              "    .dataframe tbody tr th:only-of-type {\n",
              "        vertical-align: middle;\n",
              "    }\n",
              "\n",
              "    .dataframe tbody tr th {\n",
              "        vertical-align: top;\n",
              "    }\n",
              "\n",
              "    .dataframe thead th {\n",
              "        text-align: right;\n",
              "    }\n",
              "</style>\n",
              "<table border=\"1\" class=\"dataframe\">\n",
              "  <thead>\n",
              "    <tr style=\"text-align: right;\">\n",
              "      <th></th>\n",
              "      <th>id</th>\n",
              "      <th>gender</th>\n",
              "      <th>owns_car</th>\n",
              "      <th>owns_property</th>\n",
              "      <th>no_of_children</th>\n",
              "      <th>total_income</th>\n",
              "      <th>income_type</th>\n",
              "      <th>education_type</th>\n",
              "      <th>family_status</th>\n",
              "      <th>housing_type</th>\n",
              "      <th>birthday</th>\n",
              "      <th>employment_duration</th>\n",
              "      <th>owns_mobile</th>\n",
              "      <th>has_work_phone</th>\n",
              "      <th>owns_phone</th>\n",
              "      <th>owns_email</th>\n",
              "      <th>occupation_type</th>\n",
              "      <th>family_size</th>\n",
              "    </tr>\n",
              "  </thead>\n",
              "  <tbody>\n",
              "    <tr>\n",
              "      <th>0</th>\n",
              "      <td>5008804</td>\n",
              "      <td>1</td>\n",
              "      <td>1</td>\n",
              "      <td>1</td>\n",
              "      <td>0</td>\n",
              "      <td>427500.0</td>\n",
              "      <td>4</td>\n",
              "      <td>1</td>\n",
              "      <td>0</td>\n",
              "      <td>4</td>\n",
              "      <td>-12005</td>\n",
              "      <td>-4542</td>\n",
              "      <td>1</td>\n",
              "      <td>1</td>\n",
              "      <td>0</td>\n",
              "      <td>0</td>\n",
              "      <td>NaN</td>\n",
              "      <td>2.0</td>\n",
              "    </tr>\n",
              "    <tr>\n",
              "      <th>1</th>\n",
              "      <td>5008805</td>\n",
              "      <td>1</td>\n",
              "      <td>1</td>\n",
              "      <td>1</td>\n",
              "      <td>0</td>\n",
              "      <td>427500.0</td>\n",
              "      <td>4</td>\n",
              "      <td>1</td>\n",
              "      <td>0</td>\n",
              "      <td>4</td>\n",
              "      <td>-12005</td>\n",
              "      <td>-4542</td>\n",
              "      <td>1</td>\n",
              "      <td>1</td>\n",
              "      <td>0</td>\n",
              "      <td>0</td>\n",
              "      <td>NaN</td>\n",
              "      <td>2.0</td>\n",
              "    </tr>\n",
              "    <tr>\n",
              "      <th>2</th>\n",
              "      <td>5008806</td>\n",
              "      <td>1</td>\n",
              "      <td>1</td>\n",
              "      <td>1</td>\n",
              "      <td>0</td>\n",
              "      <td>112500.0</td>\n",
              "      <td>4</td>\n",
              "      <td>4</td>\n",
              "      <td>1</td>\n",
              "      <td>1</td>\n",
              "      <td>-21474</td>\n",
              "      <td>-1134</td>\n",
              "      <td>1</td>\n",
              "      <td>0</td>\n",
              "      <td>0</td>\n",
              "      <td>0</td>\n",
              "      <td>Security staff</td>\n",
              "      <td>2.0</td>\n",
              "    </tr>\n",
              "    <tr>\n",
              "      <th>3</th>\n",
              "      <td>5008808</td>\n",
              "      <td>0</td>\n",
              "      <td>0</td>\n",
              "      <td>1</td>\n",
              "      <td>0</td>\n",
              "      <td>270000.0</td>\n",
              "      <td>0</td>\n",
              "      <td>4</td>\n",
              "      <td>3</td>\n",
              "      <td>1</td>\n",
              "      <td>-19110</td>\n",
              "      <td>-3051</td>\n",
              "      <td>1</td>\n",
              "      <td>0</td>\n",
              "      <td>1</td>\n",
              "      <td>1</td>\n",
              "      <td>Sales staff</td>\n",
              "      <td>1.0</td>\n",
              "    </tr>\n",
              "    <tr>\n",
              "      <th>4</th>\n",
              "      <td>5008809</td>\n",
              "      <td>0</td>\n",
              "      <td>0</td>\n",
              "      <td>1</td>\n",
              "      <td>0</td>\n",
              "      <td>270000.0</td>\n",
              "      <td>0</td>\n",
              "      <td>4</td>\n",
              "      <td>3</td>\n",
              "      <td>1</td>\n",
              "      <td>-19110</td>\n",
              "      <td>-3051</td>\n",
              "      <td>1</td>\n",
              "      <td>0</td>\n",
              "      <td>1</td>\n",
              "      <td>1</td>\n",
              "      <td>Sales staff</td>\n",
              "      <td>1.0</td>\n",
              "    </tr>\n",
              "  </tbody>\n",
              "</table>\n",
              "</div>"
            ],
            "text/plain": [
              "        id  gender  owns_car  ...  owns_email  occupation_type  family_size\n",
              "0  5008804       1         1  ...           0              NaN          2.0\n",
              "1  5008805       1         1  ...           0              NaN          2.0\n",
              "2  5008806       1         1  ...           0   Security staff          2.0\n",
              "3  5008808       0         0  ...           1      Sales staff          1.0\n",
              "4  5008809       0         0  ...           1      Sales staff          1.0\n",
              "\n",
              "[5 rows x 18 columns]"
            ]
          },
          "metadata": {
            "tags": []
          },
          "execution_count": 19
        }
      ]
    },
    {
      "cell_type": "code",
      "metadata": {
        "colab": {
          "base_uri": "https://localhost:8080/",
          "height": 67
        },
        "id": "YJZKfzsZKDOU",
        "outputId": "e175f016-4254-47e5-ac13-767cb40d91c1"
      },
      "source": [
        "#Check for duplicates\n",
        "application.loc[application.total_income == 315000.0].loc[application.income_type == 'Working'].loc[application.birthday == -10554].loc[application.employment_duration == -1194]"
      ],
      "execution_count": null,
      "outputs": [
        {
          "output_type": "execute_result",
          "data": {
            "text/html": [
              "<div>\n",
              "<style scoped>\n",
              "    .dataframe tbody tr th:only-of-type {\n",
              "        vertical-align: middle;\n",
              "    }\n",
              "\n",
              "    .dataframe tbody tr th {\n",
              "        vertical-align: top;\n",
              "    }\n",
              "\n",
              "    .dataframe thead th {\n",
              "        text-align: right;\n",
              "    }\n",
              "</style>\n",
              "<table border=\"1\" class=\"dataframe\">\n",
              "  <thead>\n",
              "    <tr style=\"text-align: right;\">\n",
              "      <th></th>\n",
              "      <th>id</th>\n",
              "      <th>gender</th>\n",
              "      <th>owns_car</th>\n",
              "      <th>owns_property</th>\n",
              "      <th>no_of_children</th>\n",
              "      <th>total_income</th>\n",
              "      <th>income_type</th>\n",
              "      <th>education_type</th>\n",
              "      <th>family_status</th>\n",
              "      <th>housing_type</th>\n",
              "      <th>birthday</th>\n",
              "      <th>employment_duration</th>\n",
              "      <th>owns_mobile</th>\n",
              "      <th>has_work_phone</th>\n",
              "      <th>owns_phone</th>\n",
              "      <th>owns_email</th>\n",
              "      <th>occupation_type</th>\n",
              "      <th>family_size</th>\n",
              "    </tr>\n",
              "  </thead>\n",
              "  <tbody>\n",
              "  </tbody>\n",
              "</table>\n",
              "</div>"
            ],
            "text/plain": [
              "Empty DataFrame\n",
              "Columns: [id, gender, owns_car, owns_property, no_of_children, total_income, income_type, education_type, family_status, housing_type, birthday, employment_duration, owns_mobile, has_work_phone, owns_phone, owns_email, occupation_type, family_size]\n",
              "Index: []"
            ]
          },
          "metadata": {
            "tags": []
          },
          "execution_count": 20
        }
      ]
    },
    {
      "cell_type": "markdown",
      "metadata": {
        "id": "uUSLZaqDRz-U"
      },
      "source": [
        "There are duplicate records in the dataset. They have all the same values except for the 'id'. "
      ]
    },
    {
      "cell_type": "code",
      "metadata": {
        "colab": {
          "base_uri": "https://localhost:8080/",
          "height": 97
        },
        "id": "QT-hb59oSlJl",
        "outputId": "7063f4a0-545c-4ffc-a408-d8beb05aedef"
      },
      "source": [
        "#Drop duplicate records so as to have one customer having just one id\n",
        "application = application.drop_duplicates(subset=application.columns[1:])\n",
        "application.loc[application.birthday == -10554].loc[application.employment_duration == -1194]"
      ],
      "execution_count": null,
      "outputs": [
        {
          "output_type": "execute_result",
          "data": {
            "text/html": [
              "<div>\n",
              "<style scoped>\n",
              "    .dataframe tbody tr th:only-of-type {\n",
              "        vertical-align: middle;\n",
              "    }\n",
              "\n",
              "    .dataframe tbody tr th {\n",
              "        vertical-align: top;\n",
              "    }\n",
              "\n",
              "    .dataframe thead th {\n",
              "        text-align: right;\n",
              "    }\n",
              "</style>\n",
              "<table border=\"1\" class=\"dataframe\">\n",
              "  <thead>\n",
              "    <tr style=\"text-align: right;\">\n",
              "      <th></th>\n",
              "      <th>id</th>\n",
              "      <th>gender</th>\n",
              "      <th>owns_car</th>\n",
              "      <th>owns_property</th>\n",
              "      <th>no_of_children</th>\n",
              "      <th>total_income</th>\n",
              "      <th>income_type</th>\n",
              "      <th>education_type</th>\n",
              "      <th>family_status</th>\n",
              "      <th>housing_type</th>\n",
              "      <th>birthday</th>\n",
              "      <th>employment_duration</th>\n",
              "      <th>owns_mobile</th>\n",
              "      <th>has_work_phone</th>\n",
              "      <th>owns_phone</th>\n",
              "      <th>owns_email</th>\n",
              "      <th>occupation_type</th>\n",
              "      <th>family_size</th>\n",
              "    </tr>\n",
              "  </thead>\n",
              "  <tbody>\n",
              "    <tr>\n",
              "      <th>213</th>\n",
              "      <td>5009031</td>\n",
              "      <td>0</td>\n",
              "      <td>0</td>\n",
              "      <td>1</td>\n",
              "      <td>0</td>\n",
              "      <td>315000.0</td>\n",
              "      <td>4</td>\n",
              "      <td>4</td>\n",
              "      <td>3</td>\n",
              "      <td>1</td>\n",
              "      <td>-10554</td>\n",
              "      <td>-1194</td>\n",
              "      <td>1</td>\n",
              "      <td>0</td>\n",
              "      <td>0</td>\n",
              "      <td>0</td>\n",
              "      <td>Accountants</td>\n",
              "      <td>1.0</td>\n",
              "    </tr>\n",
              "  </tbody>\n",
              "</table>\n",
              "</div>"
            ],
            "text/plain": [
              "          id  gender  owns_car  ...  owns_email  occupation_type  family_size\n",
              "213  5009031       0         0  ...           0      Accountants          1.0\n",
              "\n",
              "[1 rows x 18 columns]"
            ]
          },
          "metadata": {
            "tags": []
          },
          "execution_count": 21
        }
      ]
    },
    {
      "cell_type": "code",
      "metadata": {
        "colab": {
          "base_uri": "https://localhost:8080/"
        },
        "id": "jq3OeW2OCNSG",
        "outputId": "d94d17ec-c405-4d48-b0e7-24c382a95832"
      },
      "source": [
        "#Once again check for null values\n",
        "application.isnull().sum()"
      ],
      "execution_count": null,
      "outputs": [
        {
          "output_type": "execute_result",
          "data": {
            "text/plain": [
              "id                         0\n",
              "gender                     0\n",
              "owns_car                   0\n",
              "owns_property              0\n",
              "no_of_children             0\n",
              "total_income               0\n",
              "income_type                0\n",
              "education_type             0\n",
              "family_status              0\n",
              "housing_type               0\n",
              "birthday                   0\n",
              "employment_duration        0\n",
              "owns_mobile                0\n",
              "has_work_phone             0\n",
              "owns_phone                 0\n",
              "owns_email                 0\n",
              "occupation_type        27477\n",
              "family_size                0\n",
              "dtype: int64"
            ]
          },
          "metadata": {
            "tags": []
          },
          "execution_count": 22
        }
      ]
    },
    {
      "cell_type": "code",
      "metadata": {
        "colab": {
          "base_uri": "https://localhost:8080/"
        },
        "id": "-Avsp2VEDm1G",
        "outputId": "7eae8490-81c3-4545-95da-892c82a7e1d5"
      },
      "source": [
        "application['owns_phone'].isnull().values"
      ],
      "execution_count": null,
      "outputs": [
        {
          "output_type": "execute_result",
          "data": {
            "text/plain": [
              "array([False, False, False, ..., False, False, False])"
            ]
          },
          "metadata": {
            "tags": []
          },
          "execution_count": 23
        }
      ]
    },
    {
      "cell_type": "code",
      "metadata": {
        "colab": {
          "base_uri": "https://localhost:8080/",
          "height": 67
        },
        "id": "NwFDOyY_CZ0E",
        "outputId": "27bf0b14-90d6-4bb6-ab96-07e35cae7b0e"
      },
      "source": [
        "#Check if the same record is missing data values on has_work_phone, owns_phone,owns_email,family_size\n",
        "application.loc[application['id'] == 6089954]"
      ],
      "execution_count": null,
      "outputs": [
        {
          "output_type": "execute_result",
          "data": {
            "text/html": [
              "<div>\n",
              "<style scoped>\n",
              "    .dataframe tbody tr th:only-of-type {\n",
              "        vertical-align: middle;\n",
              "    }\n",
              "\n",
              "    .dataframe tbody tr th {\n",
              "        vertical-align: top;\n",
              "    }\n",
              "\n",
              "    .dataframe thead th {\n",
              "        text-align: right;\n",
              "    }\n",
              "</style>\n",
              "<table border=\"1\" class=\"dataframe\">\n",
              "  <thead>\n",
              "    <tr style=\"text-align: right;\">\n",
              "      <th></th>\n",
              "      <th>id</th>\n",
              "      <th>gender</th>\n",
              "      <th>owns_car</th>\n",
              "      <th>owns_property</th>\n",
              "      <th>no_of_children</th>\n",
              "      <th>total_income</th>\n",
              "      <th>income_type</th>\n",
              "      <th>education_type</th>\n",
              "      <th>family_status</th>\n",
              "      <th>housing_type</th>\n",
              "      <th>birthday</th>\n",
              "      <th>employment_duration</th>\n",
              "      <th>owns_mobile</th>\n",
              "      <th>has_work_phone</th>\n",
              "      <th>owns_phone</th>\n",
              "      <th>owns_email</th>\n",
              "      <th>occupation_type</th>\n",
              "      <th>family_size</th>\n",
              "    </tr>\n",
              "  </thead>\n",
              "  <tbody>\n",
              "  </tbody>\n",
              "</table>\n",
              "</div>"
            ],
            "text/plain": [
              "Empty DataFrame\n",
              "Columns: [id, gender, owns_car, owns_property, no_of_children, total_income, income_type, education_type, family_status, housing_type, birthday, employment_duration, owns_mobile, has_work_phone, owns_phone, owns_email, occupation_type, family_size]\n",
              "Index: []"
            ]
          },
          "metadata": {
            "tags": []
          },
          "execution_count": 24
        }
      ]
    },
    {
      "cell_type": "code",
      "metadata": {
        "id": "dlkulJFDEVlH"
      },
      "source": [
        "#Drop the last record in the application dataset since it has several values missing\n",
        "#application = application.drop(270804)\n",
        "#application.isnull().any()"
      ],
      "execution_count": null,
      "outputs": []
    },
    {
      "cell_type": "code",
      "metadata": {
        "colab": {
          "base_uri": "https://localhost:8080/",
          "height": 343
        },
        "id": "Qqs-sJzhg2wB",
        "outputId": "c6318a2c-22b1-4bfb-c4ef-d07a616d8ec9"
      },
      "source": [
        "#Rename the columns of credit\n",
        "credit.columns = ['id','months_balance','status']\n",
        "credit.sample(10)"
      ],
      "execution_count": null,
      "outputs": [
        {
          "output_type": "execute_result",
          "data": {
            "text/html": [
              "<div>\n",
              "<style scoped>\n",
              "    .dataframe tbody tr th:only-of-type {\n",
              "        vertical-align: middle;\n",
              "    }\n",
              "\n",
              "    .dataframe tbody tr th {\n",
              "        vertical-align: top;\n",
              "    }\n",
              "\n",
              "    .dataframe thead th {\n",
              "        text-align: right;\n",
              "    }\n",
              "</style>\n",
              "<table border=\"1\" class=\"dataframe\">\n",
              "  <thead>\n",
              "    <tr style=\"text-align: right;\">\n",
              "      <th></th>\n",
              "      <th>id</th>\n",
              "      <th>months_balance</th>\n",
              "      <th>status</th>\n",
              "    </tr>\n",
              "  </thead>\n",
              "  <tbody>\n",
              "    <tr>\n",
              "      <th>251787</th>\n",
              "      <td>5023009</td>\n",
              "      <td>-25</td>\n",
              "      <td>0</td>\n",
              "    </tr>\n",
              "    <tr>\n",
              "      <th>616407</th>\n",
              "      <td>5079206</td>\n",
              "      <td>-52</td>\n",
              "      <td>0</td>\n",
              "    </tr>\n",
              "    <tr>\n",
              "      <th>632187</th>\n",
              "      <td>5088938</td>\n",
              "      <td>-21</td>\n",
              "      <td>0</td>\n",
              "    </tr>\n",
              "    <tr>\n",
              "      <th>79095</th>\n",
              "      <td>5005282</td>\n",
              "      <td>-38</td>\n",
              "      <td>C</td>\n",
              "    </tr>\n",
              "    <tr>\n",
              "      <th>500957</th>\n",
              "      <td>5061033</td>\n",
              "      <td>-5</td>\n",
              "      <td>C</td>\n",
              "    </tr>\n",
              "    <tr>\n",
              "      <th>731450</th>\n",
              "      <td>5100042</td>\n",
              "      <td>-25</td>\n",
              "      <td>C</td>\n",
              "    </tr>\n",
              "    <tr>\n",
              "      <th>480710</th>\n",
              "      <td>5060051</td>\n",
              "      <td>-15</td>\n",
              "      <td>X</td>\n",
              "    </tr>\n",
              "    <tr>\n",
              "      <th>385031</th>\n",
              "      <td>5045657</td>\n",
              "      <td>-10</td>\n",
              "      <td>C</td>\n",
              "    </tr>\n",
              "    <tr>\n",
              "      <th>541119</th>\n",
              "      <td>5065492</td>\n",
              "      <td>-26</td>\n",
              "      <td>X</td>\n",
              "    </tr>\n",
              "    <tr>\n",
              "      <th>399272</th>\n",
              "      <td>5046506</td>\n",
              "      <td>-1</td>\n",
              "      <td>C</td>\n",
              "    </tr>\n",
              "  </tbody>\n",
              "</table>\n",
              "</div>"
            ],
            "text/plain": [
              "             id  months_balance status\n",
              "251787  5023009             -25      0\n",
              "616407  5079206             -52      0\n",
              "632187  5088938             -21      0\n",
              "79095   5005282             -38      C\n",
              "500957  5061033              -5      C\n",
              "731450  5100042             -25      C\n",
              "480710  5060051             -15      X\n",
              "385031  5045657             -10      C\n",
              "541119  5065492             -26      X\n",
              "399272  5046506              -1      C"
            ]
          },
          "metadata": {
            "tags": []
          },
          "execution_count": 26
        }
      ]
    },
    {
      "cell_type": "code",
      "metadata": {
        "colab": {
          "base_uri": "https://localhost:8080/",
          "height": 215
        },
        "id": "bP0v0gaaoW3K",
        "outputId": "5b513be2-56cd-4fdd-e634-fd9dfa89e32a"
      },
      "source": [
        "#Merge the application and credit datasets for easier analysis\n",
        "data = pd.merge(application, credit, how='inner', on=['id'])\n",
        "data.head()"
      ],
      "execution_count": null,
      "outputs": [
        {
          "output_type": "execute_result",
          "data": {
            "text/html": [
              "<div>\n",
              "<style scoped>\n",
              "    .dataframe tbody tr th:only-of-type {\n",
              "        vertical-align: middle;\n",
              "    }\n",
              "\n",
              "    .dataframe tbody tr th {\n",
              "        vertical-align: top;\n",
              "    }\n",
              "\n",
              "    .dataframe thead th {\n",
              "        text-align: right;\n",
              "    }\n",
              "</style>\n",
              "<table border=\"1\" class=\"dataframe\">\n",
              "  <thead>\n",
              "    <tr style=\"text-align: right;\">\n",
              "      <th></th>\n",
              "      <th>id</th>\n",
              "      <th>gender</th>\n",
              "      <th>owns_car</th>\n",
              "      <th>owns_property</th>\n",
              "      <th>no_of_children</th>\n",
              "      <th>total_income</th>\n",
              "      <th>income_type</th>\n",
              "      <th>education_type</th>\n",
              "      <th>family_status</th>\n",
              "      <th>housing_type</th>\n",
              "      <th>birthday</th>\n",
              "      <th>employment_duration</th>\n",
              "      <th>owns_mobile</th>\n",
              "      <th>has_work_phone</th>\n",
              "      <th>owns_phone</th>\n",
              "      <th>owns_email</th>\n",
              "      <th>occupation_type</th>\n",
              "      <th>family_size</th>\n",
              "      <th>months_balance</th>\n",
              "      <th>status</th>\n",
              "    </tr>\n",
              "  </thead>\n",
              "  <tbody>\n",
              "    <tr>\n",
              "      <th>0</th>\n",
              "      <td>5008804</td>\n",
              "      <td>1</td>\n",
              "      <td>1</td>\n",
              "      <td>1</td>\n",
              "      <td>0</td>\n",
              "      <td>427500.0</td>\n",
              "      <td>4</td>\n",
              "      <td>1</td>\n",
              "      <td>0</td>\n",
              "      <td>4</td>\n",
              "      <td>-12005</td>\n",
              "      <td>-4542</td>\n",
              "      <td>1</td>\n",
              "      <td>1</td>\n",
              "      <td>0</td>\n",
              "      <td>0</td>\n",
              "      <td>NaN</td>\n",
              "      <td>2.0</td>\n",
              "      <td>0</td>\n",
              "      <td>C</td>\n",
              "    </tr>\n",
              "    <tr>\n",
              "      <th>1</th>\n",
              "      <td>5008804</td>\n",
              "      <td>1</td>\n",
              "      <td>1</td>\n",
              "      <td>1</td>\n",
              "      <td>0</td>\n",
              "      <td>427500.0</td>\n",
              "      <td>4</td>\n",
              "      <td>1</td>\n",
              "      <td>0</td>\n",
              "      <td>4</td>\n",
              "      <td>-12005</td>\n",
              "      <td>-4542</td>\n",
              "      <td>1</td>\n",
              "      <td>1</td>\n",
              "      <td>0</td>\n",
              "      <td>0</td>\n",
              "      <td>NaN</td>\n",
              "      <td>2.0</td>\n",
              "      <td>-1</td>\n",
              "      <td>C</td>\n",
              "    </tr>\n",
              "    <tr>\n",
              "      <th>2</th>\n",
              "      <td>5008804</td>\n",
              "      <td>1</td>\n",
              "      <td>1</td>\n",
              "      <td>1</td>\n",
              "      <td>0</td>\n",
              "      <td>427500.0</td>\n",
              "      <td>4</td>\n",
              "      <td>1</td>\n",
              "      <td>0</td>\n",
              "      <td>4</td>\n",
              "      <td>-12005</td>\n",
              "      <td>-4542</td>\n",
              "      <td>1</td>\n",
              "      <td>1</td>\n",
              "      <td>0</td>\n",
              "      <td>0</td>\n",
              "      <td>NaN</td>\n",
              "      <td>2.0</td>\n",
              "      <td>-2</td>\n",
              "      <td>C</td>\n",
              "    </tr>\n",
              "    <tr>\n",
              "      <th>3</th>\n",
              "      <td>5008804</td>\n",
              "      <td>1</td>\n",
              "      <td>1</td>\n",
              "      <td>1</td>\n",
              "      <td>0</td>\n",
              "      <td>427500.0</td>\n",
              "      <td>4</td>\n",
              "      <td>1</td>\n",
              "      <td>0</td>\n",
              "      <td>4</td>\n",
              "      <td>-12005</td>\n",
              "      <td>-4542</td>\n",
              "      <td>1</td>\n",
              "      <td>1</td>\n",
              "      <td>0</td>\n",
              "      <td>0</td>\n",
              "      <td>NaN</td>\n",
              "      <td>2.0</td>\n",
              "      <td>-3</td>\n",
              "      <td>C</td>\n",
              "    </tr>\n",
              "    <tr>\n",
              "      <th>4</th>\n",
              "      <td>5008804</td>\n",
              "      <td>1</td>\n",
              "      <td>1</td>\n",
              "      <td>1</td>\n",
              "      <td>0</td>\n",
              "      <td>427500.0</td>\n",
              "      <td>4</td>\n",
              "      <td>1</td>\n",
              "      <td>0</td>\n",
              "      <td>4</td>\n",
              "      <td>-12005</td>\n",
              "      <td>-4542</td>\n",
              "      <td>1</td>\n",
              "      <td>1</td>\n",
              "      <td>0</td>\n",
              "      <td>0</td>\n",
              "      <td>NaN</td>\n",
              "      <td>2.0</td>\n",
              "      <td>-4</td>\n",
              "      <td>C</td>\n",
              "    </tr>\n",
              "  </tbody>\n",
              "</table>\n",
              "</div>"
            ],
            "text/plain": [
              "        id  gender  owns_car  ...  family_size  months_balance  status\n",
              "0  5008804       1         1  ...          2.0               0       C\n",
              "1  5008804       1         1  ...          2.0              -1       C\n",
              "2  5008804       1         1  ...          2.0              -2       C\n",
              "3  5008804       1         1  ...          2.0              -3       C\n",
              "4  5008804       1         1  ...          2.0              -4       C\n",
              "\n",
              "[5 rows x 20 columns]"
            ]
          },
          "metadata": {
            "tags": []
          },
          "execution_count": 27
        }
      ]
    },
    {
      "cell_type": "markdown",
      "metadata": {
        "id": "LrQ3N9RW51eB"
      },
      "source": [
        "Exploratory Data Analysis"
      ]
    },
    {
      "cell_type": "code",
      "metadata": {
        "colab": {
          "base_uri": "https://localhost:8080/",
          "height": 304
        },
        "id": "KcHeuFwJ5_zt",
        "outputId": "2cd92e92-85ae-420a-fa3d-45de20b31045"
      },
      "source": [
        "data.describe()"
      ],
      "execution_count": null,
      "outputs": [
        {
          "output_type": "execute_result",
          "data": {
            "text/html": [
              "<div>\n",
              "<style scoped>\n",
              "    .dataframe tbody tr th:only-of-type {\n",
              "        vertical-align: middle;\n",
              "    }\n",
              "\n",
              "    .dataframe tbody tr th {\n",
              "        vertical-align: top;\n",
              "    }\n",
              "\n",
              "    .dataframe thead th {\n",
              "        text-align: right;\n",
              "    }\n",
              "</style>\n",
              "<table border=\"1\" class=\"dataframe\">\n",
              "  <thead>\n",
              "    <tr style=\"text-align: right;\">\n",
              "      <th></th>\n",
              "      <th>id</th>\n",
              "      <th>gender</th>\n",
              "      <th>owns_car</th>\n",
              "      <th>owns_property</th>\n",
              "      <th>no_of_children</th>\n",
              "      <th>total_income</th>\n",
              "      <th>income_type</th>\n",
              "      <th>education_type</th>\n",
              "      <th>family_status</th>\n",
              "      <th>housing_type</th>\n",
              "      <th>birthday</th>\n",
              "      <th>employment_duration</th>\n",
              "      <th>owns_mobile</th>\n",
              "      <th>has_work_phone</th>\n",
              "      <th>owns_phone</th>\n",
              "      <th>owns_email</th>\n",
              "      <th>family_size</th>\n",
              "      <th>months_balance</th>\n",
              "    </tr>\n",
              "  </thead>\n",
              "  <tbody>\n",
              "    <tr>\n",
              "      <th>count</th>\n",
              "      <td>2.191730e+05</td>\n",
              "      <td>219173.000000</td>\n",
              "      <td>219173.000000</td>\n",
              "      <td>219173.000000</td>\n",
              "      <td>219173.000000</td>\n",
              "      <td>2.191730e+05</td>\n",
              "      <td>219173.000000</td>\n",
              "      <td>219173.000000</td>\n",
              "      <td>219173.000000</td>\n",
              "      <td>219173.000000</td>\n",
              "      <td>219173.000000</td>\n",
              "      <td>219173.000000</td>\n",
              "      <td>219173.0</td>\n",
              "      <td>219173.000000</td>\n",
              "      <td>219173.000000</td>\n",
              "      <td>219173.000000</td>\n",
              "      <td>219173.000000</td>\n",
              "      <td>219173.000000</td>\n",
              "    </tr>\n",
              "    <tr>\n",
              "      <th>mean</th>\n",
              "      <td>5.076276e+06</td>\n",
              "      <td>0.348998</td>\n",
              "      <td>0.375516</td>\n",
              "      <td>0.658941</td>\n",
              "      <td>0.417291</td>\n",
              "      <td>1.827611e+05</td>\n",
              "      <td>2.341023</td>\n",
              "      <td>3.142705</td>\n",
              "      <td>1.367655</td>\n",
              "      <td>1.246376</td>\n",
              "      <td>-16223.989433</td>\n",
              "      <td>62009.668755</td>\n",
              "      <td>1.0</td>\n",
              "      <td>0.225333</td>\n",
              "      <td>0.292527</td>\n",
              "      <td>0.084778</td>\n",
              "      <td>2.185205</td>\n",
              "      <td>-19.776213</td>\n",
              "    </tr>\n",
              "    <tr>\n",
              "      <th>std</th>\n",
              "      <td>4.064917e+04</td>\n",
              "      <td>0.476655</td>\n",
              "      <td>0.484257</td>\n",
              "      <td>0.474066</td>\n",
              "      <td>0.768615</td>\n",
              "      <td>1.009426e+05</td>\n",
              "      <td>1.744307</td>\n",
              "      <td>1.319734</td>\n",
              "      <td>0.956532</td>\n",
              "      <td>0.882553</td>\n",
              "      <td>4150.124178</td>\n",
              "      <td>140043.926967</td>\n",
              "      <td>0.0</td>\n",
              "      <td>0.417803</td>\n",
              "      <td>0.454924</td>\n",
              "      <td>0.278551</td>\n",
              "      <td>0.927131</td>\n",
              "      <td>14.216240</td>\n",
              "    </tr>\n",
              "    <tr>\n",
              "      <th>min</th>\n",
              "      <td>5.008804e+06</td>\n",
              "      <td>0.000000</td>\n",
              "      <td>0.000000</td>\n",
              "      <td>0.000000</td>\n",
              "      <td>0.000000</td>\n",
              "      <td>2.700000e+04</td>\n",
              "      <td>0.000000</td>\n",
              "      <td>0.000000</td>\n",
              "      <td>0.000000</td>\n",
              "      <td>0.000000</td>\n",
              "      <td>-25152.000000</td>\n",
              "      <td>-15713.000000</td>\n",
              "      <td>1.0</td>\n",
              "      <td>0.000000</td>\n",
              "      <td>0.000000</td>\n",
              "      <td>0.000000</td>\n",
              "      <td>1.000000</td>\n",
              "      <td>-60.000000</td>\n",
              "    </tr>\n",
              "    <tr>\n",
              "      <th>25%</th>\n",
              "      <td>5.037063e+06</td>\n",
              "      <td>0.000000</td>\n",
              "      <td>0.000000</td>\n",
              "      <td>0.000000</td>\n",
              "      <td>0.000000</td>\n",
              "      <td>1.125000e+05</td>\n",
              "      <td>1.000000</td>\n",
              "      <td>1.000000</td>\n",
              "      <td>1.000000</td>\n",
              "      <td>1.000000</td>\n",
              "      <td>-19682.000000</td>\n",
              "      <td>-3154.000000</td>\n",
              "      <td>1.0</td>\n",
              "      <td>0.000000</td>\n",
              "      <td>0.000000</td>\n",
              "      <td>0.000000</td>\n",
              "      <td>2.000000</td>\n",
              "      <td>-30.000000</td>\n",
              "    </tr>\n",
              "    <tr>\n",
              "      <th>50%</th>\n",
              "      <td>5.069239e+06</td>\n",
              "      <td>0.000000</td>\n",
              "      <td>0.000000</td>\n",
              "      <td>1.000000</td>\n",
              "      <td>0.000000</td>\n",
              "      <td>1.575000e+05</td>\n",
              "      <td>4.000000</td>\n",
              "      <td>4.000000</td>\n",
              "      <td>1.000000</td>\n",
              "      <td>1.000000</td>\n",
              "      <td>-15909.000000</td>\n",
              "      <td>-1517.000000</td>\n",
              "      <td>1.0</td>\n",
              "      <td>0.000000</td>\n",
              "      <td>0.000000</td>\n",
              "      <td>0.000000</td>\n",
              "      <td>2.000000</td>\n",
              "      <td>-17.000000</td>\n",
              "    </tr>\n",
              "    <tr>\n",
              "      <th>75%</th>\n",
              "      <td>5.112992e+06</td>\n",
              "      <td>1.000000</td>\n",
              "      <td>1.000000</td>\n",
              "      <td>1.000000</td>\n",
              "      <td>1.000000</td>\n",
              "      <td>2.250000e+05</td>\n",
              "      <td>4.000000</td>\n",
              "      <td>4.000000</td>\n",
              "      <td>1.000000</td>\n",
              "      <td>1.000000</td>\n",
              "      <td>-12752.000000</td>\n",
              "      <td>-353.000000</td>\n",
              "      <td>1.0</td>\n",
              "      <td>0.000000</td>\n",
              "      <td>1.000000</td>\n",
              "      <td>0.000000</td>\n",
              "      <td>3.000000</td>\n",
              "      <td>-8.000000</td>\n",
              "    </tr>\n",
              "    <tr>\n",
              "      <th>max</th>\n",
              "      <td>5.150479e+06</td>\n",
              "      <td>1.000000</td>\n",
              "      <td>1.000000</td>\n",
              "      <td>1.000000</td>\n",
              "      <td>19.000000</td>\n",
              "      <td>1.575000e+06</td>\n",
              "      <td>4.000000</td>\n",
              "      <td>4.000000</td>\n",
              "      <td>4.000000</td>\n",
              "      <td>5.000000</td>\n",
              "      <td>-7489.000000</td>\n",
              "      <td>365243.000000</td>\n",
              "      <td>1.0</td>\n",
              "      <td>1.000000</td>\n",
              "      <td>1.000000</td>\n",
              "      <td>1.000000</td>\n",
              "      <td>20.000000</td>\n",
              "      <td>0.000000</td>\n",
              "    </tr>\n",
              "  </tbody>\n",
              "</table>\n",
              "</div>"
            ],
            "text/plain": [
              "                 id         gender  ...    family_size  months_balance\n",
              "count  2.191730e+05  219173.000000  ...  219173.000000   219173.000000\n",
              "mean   5.076276e+06       0.348998  ...       2.185205      -19.776213\n",
              "std    4.064917e+04       0.476655  ...       0.927131       14.216240\n",
              "min    5.008804e+06       0.000000  ...       1.000000      -60.000000\n",
              "25%    5.037063e+06       0.000000  ...       2.000000      -30.000000\n",
              "50%    5.069239e+06       0.000000  ...       2.000000      -17.000000\n",
              "75%    5.112992e+06       1.000000  ...       3.000000       -8.000000\n",
              "max    5.150479e+06       1.000000  ...      20.000000        0.000000\n",
              "\n",
              "[8 rows x 18 columns]"
            ]
          },
          "metadata": {
            "tags": []
          },
          "execution_count": 28
        }
      ]
    },
    {
      "cell_type": "markdown",
      "metadata": {
        "id": "AW1t_hDfLehf"
      },
      "source": [
        "Categorizing the records as defaulted or not defaulted.\n",
        "Any record with status (0,1,2,3,4,5) should be labelled as defaulted whereas, any record with status (X, C) should be labelled as not defaulted."
      ]
    },
    {
      "cell_type": "code",
      "metadata": {
        "colab": {
          "base_uri": "https://localhost:8080/",
          "height": 215
        },
        "id": "BGX1i11DLddU",
        "outputId": "5924e34e-97b2-469e-a7ef-ba81716b6b1c"
      },
      "source": [
        "defaulters= ['0','1','2','3','4','5']\n",
        "\n",
        "data['default_status'] = np.where(data.status.isin(defaulters), 1, 0)\n",
        "data.head()"
      ],
      "execution_count": null,
      "outputs": [
        {
          "output_type": "execute_result",
          "data": {
            "text/html": [
              "<div>\n",
              "<style scoped>\n",
              "    .dataframe tbody tr th:only-of-type {\n",
              "        vertical-align: middle;\n",
              "    }\n",
              "\n",
              "    .dataframe tbody tr th {\n",
              "        vertical-align: top;\n",
              "    }\n",
              "\n",
              "    .dataframe thead th {\n",
              "        text-align: right;\n",
              "    }\n",
              "</style>\n",
              "<table border=\"1\" class=\"dataframe\">\n",
              "  <thead>\n",
              "    <tr style=\"text-align: right;\">\n",
              "      <th></th>\n",
              "      <th>id</th>\n",
              "      <th>gender</th>\n",
              "      <th>owns_car</th>\n",
              "      <th>owns_property</th>\n",
              "      <th>no_of_children</th>\n",
              "      <th>total_income</th>\n",
              "      <th>income_type</th>\n",
              "      <th>education_type</th>\n",
              "      <th>family_status</th>\n",
              "      <th>housing_type</th>\n",
              "      <th>birthday</th>\n",
              "      <th>employment_duration</th>\n",
              "      <th>owns_mobile</th>\n",
              "      <th>has_work_phone</th>\n",
              "      <th>owns_phone</th>\n",
              "      <th>owns_email</th>\n",
              "      <th>occupation_type</th>\n",
              "      <th>family_size</th>\n",
              "      <th>months_balance</th>\n",
              "      <th>status</th>\n",
              "      <th>default_status</th>\n",
              "    </tr>\n",
              "  </thead>\n",
              "  <tbody>\n",
              "    <tr>\n",
              "      <th>0</th>\n",
              "      <td>5008804</td>\n",
              "      <td>1</td>\n",
              "      <td>1</td>\n",
              "      <td>1</td>\n",
              "      <td>0</td>\n",
              "      <td>427500.0</td>\n",
              "      <td>4</td>\n",
              "      <td>1</td>\n",
              "      <td>0</td>\n",
              "      <td>4</td>\n",
              "      <td>-12005</td>\n",
              "      <td>-4542</td>\n",
              "      <td>1</td>\n",
              "      <td>1</td>\n",
              "      <td>0</td>\n",
              "      <td>0</td>\n",
              "      <td>NaN</td>\n",
              "      <td>2.0</td>\n",
              "      <td>0</td>\n",
              "      <td>C</td>\n",
              "      <td>0</td>\n",
              "    </tr>\n",
              "    <tr>\n",
              "      <th>1</th>\n",
              "      <td>5008804</td>\n",
              "      <td>1</td>\n",
              "      <td>1</td>\n",
              "      <td>1</td>\n",
              "      <td>0</td>\n",
              "      <td>427500.0</td>\n",
              "      <td>4</td>\n",
              "      <td>1</td>\n",
              "      <td>0</td>\n",
              "      <td>4</td>\n",
              "      <td>-12005</td>\n",
              "      <td>-4542</td>\n",
              "      <td>1</td>\n",
              "      <td>1</td>\n",
              "      <td>0</td>\n",
              "      <td>0</td>\n",
              "      <td>NaN</td>\n",
              "      <td>2.0</td>\n",
              "      <td>-1</td>\n",
              "      <td>C</td>\n",
              "      <td>0</td>\n",
              "    </tr>\n",
              "    <tr>\n",
              "      <th>2</th>\n",
              "      <td>5008804</td>\n",
              "      <td>1</td>\n",
              "      <td>1</td>\n",
              "      <td>1</td>\n",
              "      <td>0</td>\n",
              "      <td>427500.0</td>\n",
              "      <td>4</td>\n",
              "      <td>1</td>\n",
              "      <td>0</td>\n",
              "      <td>4</td>\n",
              "      <td>-12005</td>\n",
              "      <td>-4542</td>\n",
              "      <td>1</td>\n",
              "      <td>1</td>\n",
              "      <td>0</td>\n",
              "      <td>0</td>\n",
              "      <td>NaN</td>\n",
              "      <td>2.0</td>\n",
              "      <td>-2</td>\n",
              "      <td>C</td>\n",
              "      <td>0</td>\n",
              "    </tr>\n",
              "    <tr>\n",
              "      <th>3</th>\n",
              "      <td>5008804</td>\n",
              "      <td>1</td>\n",
              "      <td>1</td>\n",
              "      <td>1</td>\n",
              "      <td>0</td>\n",
              "      <td>427500.0</td>\n",
              "      <td>4</td>\n",
              "      <td>1</td>\n",
              "      <td>0</td>\n",
              "      <td>4</td>\n",
              "      <td>-12005</td>\n",
              "      <td>-4542</td>\n",
              "      <td>1</td>\n",
              "      <td>1</td>\n",
              "      <td>0</td>\n",
              "      <td>0</td>\n",
              "      <td>NaN</td>\n",
              "      <td>2.0</td>\n",
              "      <td>-3</td>\n",
              "      <td>C</td>\n",
              "      <td>0</td>\n",
              "    </tr>\n",
              "    <tr>\n",
              "      <th>4</th>\n",
              "      <td>5008804</td>\n",
              "      <td>1</td>\n",
              "      <td>1</td>\n",
              "      <td>1</td>\n",
              "      <td>0</td>\n",
              "      <td>427500.0</td>\n",
              "      <td>4</td>\n",
              "      <td>1</td>\n",
              "      <td>0</td>\n",
              "      <td>4</td>\n",
              "      <td>-12005</td>\n",
              "      <td>-4542</td>\n",
              "      <td>1</td>\n",
              "      <td>1</td>\n",
              "      <td>0</td>\n",
              "      <td>0</td>\n",
              "      <td>NaN</td>\n",
              "      <td>2.0</td>\n",
              "      <td>-4</td>\n",
              "      <td>C</td>\n",
              "      <td>0</td>\n",
              "    </tr>\n",
              "  </tbody>\n",
              "</table>\n",
              "</div>"
            ],
            "text/plain": [
              "        id  gender  owns_car  ...  months_balance  status  default_status\n",
              "0  5008804       1         1  ...               0       C               0\n",
              "1  5008804       1         1  ...              -1       C               0\n",
              "2  5008804       1         1  ...              -2       C               0\n",
              "3  5008804       1         1  ...              -3       C               0\n",
              "4  5008804       1         1  ...              -4       C               0\n",
              "\n",
              "[5 rows x 21 columns]"
            ]
          },
          "metadata": {
            "tags": []
          },
          "execution_count": 29
        }
      ]
    },
    {
      "cell_type": "markdown",
      "metadata": {
        "id": "VLG0JLppsKUD"
      },
      "source": [
        "Univariate Analysis"
      ]
    },
    {
      "cell_type": "markdown",
      "metadata": {
        "id": "OaQ6rxztsMJu"
      },
      "source": [
        "Categorical data\n",
        "Have a look at the distribution of each of the categorical data i.e gender, owns_car, income_type, education_type, family_status, housing_type, owns_mobile, has_work_phone, owns_phone, owns_email, occupation_type"
      ]
    },
    {
      "cell_type": "code",
      "metadata": {
        "colab": {
          "base_uri": "https://localhost:8080/",
          "height": 385
        },
        "id": "ab69karFsYHQ",
        "outputId": "320261db-bb35-478a-ef64-ddf0459d1d0e"
      },
      "source": [
        "# create a bar plot of the 'gender' variable\n",
        "fig=plt.figure()\n",
        "cx=fig.add_axes([0,0,1,1])\n",
        "data.gender.value_counts().plot(kind = 'bar', rot = 0, color = ['green', 'blue'])\n",
        "cx.set_xlabel('Gender')\n",
        "cx.set_title('Distribution of Gender')\n",
        "cx.set_xticklabels(['Female','Male'])\n",
        "plt.tick_params(axis=\"x\",direction=\"out\",length=4,width=2,pad=10,labelsize=10,labelbottom=True,labelrotation=20);"
      ],
      "execution_count": null,
      "outputs": [
        {
          "output_type": "display_data",
          "data": {
            "image/png": "[encoded data removed]",
            "text/plain": [
              "<Figure size 432x288 with 1 Axes>"
            ]
          },
          "metadata": {
            "tags": [],
            "needs_background": "light"
          }
        }
      ]
    },
    {
      "cell_type": "code",
      "metadata": {
        "id": "uRMIEV-2wHgJ",
        "colab": {
          "base_uri": "https://localhost:8080/"
        },
        "outputId": "d33b3c47-1944-4c13-ba19-679734d40fd6"
      },
      "source": [
        "# get the value counts of the 'owns_car' variable\n",
        "data.owns_car.value_counts()"
      ],
      "execution_count": null,
      "outputs": [
        {
          "output_type": "execute_result",
          "data": {
            "text/plain": [
              "0    136870\n",
              "1     82303\n",
              "Name: owns_car, dtype: int64"
            ]
          },
          "metadata": {
            "tags": []
          },
          "execution_count": 31
        }
      ]
    },
    {
      "cell_type": "code",
      "metadata": {
        "colab": {
          "base_uri": "https://localhost:8080/"
        },
        "id": "VPA2l3rq3XfM",
        "outputId": "c6aca2f1-71c3-4587-f6a8-607aae1a1bba"
      },
      "source": [
        "# get the value counts of the 'owns_property' variable\n",
        "data.owns_property.value_counts()"
      ],
      "execution_count": null,
      "outputs": [
        {
          "output_type": "execute_result",
          "data": {
            "text/plain": [
              "1    144422\n",
              "0     74751\n",
              "Name: owns_property, dtype: int64"
            ]
          },
          "metadata": {
            "tags": []
          },
          "execution_count": 32
        }
      ]
    },
    {
      "cell_type": "code",
      "metadata": {
        "id": "VX_--Hf8xCr9",
        "colab": {
          "base_uri": "https://localhost:8080/"
        },
        "outputId": "42661683-5906-446d-b508-5f4a1354b72a"
      },
      "source": [
        "# get the value counts of the 'owns_mobile' variable\n",
        "data.owns_mobile.value_counts()"
      ],
      "execution_count": null,
      "outputs": [
        {
          "output_type": "execute_result",
          "data": {
            "text/plain": [
              "1    219173\n",
              "Name: owns_mobile, dtype: int64"
            ]
          },
          "metadata": {
            "tags": []
          },
          "execution_count": 33
        }
      ]
    },
    {
      "cell_type": "markdown",
      "metadata": {
        "id": "C496LmUoxeN3"
      },
      "source": [
        "Every customer owns a mobile phone hence the feature may not be of much help in analysis or modelling."
      ]
    },
    {
      "cell_type": "code",
      "metadata": {
        "colab": {
          "base_uri": "https://localhost:8080/",
          "height": 215
        },
        "id": "4PYnzhvoI1Pq",
        "outputId": "5c53fcaa-2d1f-48f5-c064-ff053574a178"
      },
      "source": [
        "#Drop the owns_mobile feature\n",
        "data.drop(['owns_mobile'], axis = 1, inplace = True) \n",
        "data.head()"
      ],
      "execution_count": null,
      "outputs": [
        {
          "output_type": "execute_result",
          "data": {
            "text/html": [
              "<div>\n",
              "<style scoped>\n",
              "    .dataframe tbody tr th:only-of-type {\n",
              "        vertical-align: middle;\n",
              "    }\n",
              "\n",
              "    .dataframe tbody tr th {\n",
              "        vertical-align: top;\n",
              "    }\n",
              "\n",
              "    .dataframe thead th {\n",
              "        text-align: right;\n",
              "    }\n",
              "</style>\n",
              "<table border=\"1\" class=\"dataframe\">\n",
              "  <thead>\n",
              "    <tr style=\"text-align: right;\">\n",
              "      <th></th>\n",
              "      <th>id</th>\n",
              "      <th>gender</th>\n",
              "      <th>owns_car</th>\n",
              "      <th>owns_property</th>\n",
              "      <th>no_of_children</th>\n",
              "      <th>total_income</th>\n",
              "      <th>income_type</th>\n",
              "      <th>education_type</th>\n",
              "      <th>family_status</th>\n",
              "      <th>housing_type</th>\n",
              "      <th>birthday</th>\n",
              "      <th>employment_duration</th>\n",
              "      <th>has_work_phone</th>\n",
              "      <th>owns_phone</th>\n",
              "      <th>owns_email</th>\n",
              "      <th>occupation_type</th>\n",
              "      <th>family_size</th>\n",
              "      <th>months_balance</th>\n",
              "      <th>status</th>\n",
              "      <th>default_status</th>\n",
              "    </tr>\n",
              "  </thead>\n",
              "  <tbody>\n",
              "    <tr>\n",
              "      <th>0</th>\n",
              "      <td>5008804</td>\n",
              "      <td>1</td>\n",
              "      <td>1</td>\n",
              "      <td>1</td>\n",
              "      <td>0</td>\n",
              "      <td>427500.0</td>\n",
              "      <td>4</td>\n",
              "      <td>1</td>\n",
              "      <td>0</td>\n",
              "      <td>4</td>\n",
              "      <td>-12005</td>\n",
              "      <td>-4542</td>\n",
              "      <td>1</td>\n",
              "      <td>0</td>\n",
              "      <td>0</td>\n",
              "      <td>NaN</td>\n",
              "      <td>2.0</td>\n",
              "      <td>0</td>\n",
              "      <td>C</td>\n",
              "      <td>0</td>\n",
              "    </tr>\n",
              "    <tr>\n",
              "      <th>1</th>\n",
              "      <td>5008804</td>\n",
              "      <td>1</td>\n",
              "      <td>1</td>\n",
              "      <td>1</td>\n",
              "      <td>0</td>\n",
              "      <td>427500.0</td>\n",
              "      <td>4</td>\n",
              "      <td>1</td>\n",
              "      <td>0</td>\n",
              "      <td>4</td>\n",
              "      <td>-12005</td>\n",
              "      <td>-4542</td>\n",
              "      <td>1</td>\n",
              "      <td>0</td>\n",
              "      <td>0</td>\n",
              "      <td>NaN</td>\n",
              "      <td>2.0</td>\n",
              "      <td>-1</td>\n",
              "      <td>C</td>\n",
              "      <td>0</td>\n",
              "    </tr>\n",
              "    <tr>\n",
              "      <th>2</th>\n",
              "      <td>5008804</td>\n",
              "      <td>1</td>\n",
              "      <td>1</td>\n",
              "      <td>1</td>\n",
              "      <td>0</td>\n",
              "      <td>427500.0</td>\n",
              "      <td>4</td>\n",
              "      <td>1</td>\n",
              "      <td>0</td>\n",
              "      <td>4</td>\n",
              "      <td>-12005</td>\n",
              "      <td>-4542</td>\n",
              "      <td>1</td>\n",
              "      <td>0</td>\n",
              "      <td>0</td>\n",
              "      <td>NaN</td>\n",
              "      <td>2.0</td>\n",
              "      <td>-2</td>\n",
              "      <td>C</td>\n",
              "      <td>0</td>\n",
              "    </tr>\n",
              "    <tr>\n",
              "      <th>3</th>\n",
              "      <td>5008804</td>\n",
              "      <td>1</td>\n",
              "      <td>1</td>\n",
              "      <td>1</td>\n",
              "      <td>0</td>\n",
              "      <td>427500.0</td>\n",
              "      <td>4</td>\n",
              "      <td>1</td>\n",
              "      <td>0</td>\n",
              "      <td>4</td>\n",
              "      <td>-12005</td>\n",
              "      <td>-4542</td>\n",
              "      <td>1</td>\n",
              "      <td>0</td>\n",
              "      <td>0</td>\n",
              "      <td>NaN</td>\n",
              "      <td>2.0</td>\n",
              "      <td>-3</td>\n",
              "      <td>C</td>\n",
              "      <td>0</td>\n",
              "    </tr>\n",
              "    <tr>\n",
              "      <th>4</th>\n",
              "      <td>5008804</td>\n",
              "      <td>1</td>\n",
              "      <td>1</td>\n",
              "      <td>1</td>\n",
              "      <td>0</td>\n",
              "      <td>427500.0</td>\n",
              "      <td>4</td>\n",
              "      <td>1</td>\n",
              "      <td>0</td>\n",
              "      <td>4</td>\n",
              "      <td>-12005</td>\n",
              "      <td>-4542</td>\n",
              "      <td>1</td>\n",
              "      <td>0</td>\n",
              "      <td>0</td>\n",
              "      <td>NaN</td>\n",
              "      <td>2.0</td>\n",
              "      <td>-4</td>\n",
              "      <td>C</td>\n",
              "      <td>0</td>\n",
              "    </tr>\n",
              "  </tbody>\n",
              "</table>\n",
              "</div>"
            ],
            "text/plain": [
              "        id  gender  owns_car  ...  months_balance  status  default_status\n",
              "0  5008804       1         1  ...               0       C               0\n",
              "1  5008804       1         1  ...              -1       C               0\n",
              "2  5008804       1         1  ...              -2       C               0\n",
              "3  5008804       1         1  ...              -3       C               0\n",
              "4  5008804       1         1  ...              -4       C               0\n",
              "\n",
              "[5 rows x 20 columns]"
            ]
          },
          "metadata": {
            "tags": []
          },
          "execution_count": 34
        }
      ]
    },
    {
      "cell_type": "code",
      "metadata": {
        "colab": {
          "base_uri": "https://localhost:8080/"
        },
        "id": "wqTcXycOxw9R",
        "outputId": "6c74eb34-0f76-4f50-91ce-01a1d3d8c40a"
      },
      "source": [
        "# get the value counts of the 'has_work_phone' variable\n",
        "data.has_work_phone.value_counts()"
      ],
      "execution_count": null,
      "outputs": [
        {
          "output_type": "execute_result",
          "data": {
            "text/plain": [
              "0    169786\n",
              "1     49387\n",
              "Name: has_work_phone, dtype: int64"
            ]
          },
          "metadata": {
            "tags": []
          },
          "execution_count": 35
        }
      ]
    },
    {
      "cell_type": "code",
      "metadata": {
        "colab": {
          "base_uri": "https://localhost:8080/"
        },
        "id": "BY6dajJxyIVa",
        "outputId": "755e33ad-afe9-4799-a6b5-016d534fad09"
      },
      "source": [
        "# get the value counts of the 'owns_phone' variable\n",
        "data.owns_phone.value_counts()"
      ],
      "execution_count": null,
      "outputs": [
        {
          "output_type": "execute_result",
          "data": {
            "text/plain": [
              "0    155059\n",
              "1     64114\n",
              "Name: owns_phone, dtype: int64"
            ]
          },
          "metadata": {
            "tags": []
          },
          "execution_count": 36
        }
      ]
    },
    {
      "cell_type": "code",
      "metadata": {
        "colab": {
          "base_uri": "https://localhost:8080/"
        },
        "id": "NLvt_xIJyXs_",
        "outputId": "695f66e8-b760-4a89-aa1b-aadcc6234141"
      },
      "source": [
        "# get the value counts of the 'owns_email' variable\n",
        "data.owns_email.value_counts()"
      ],
      "execution_count": null,
      "outputs": [
        {
          "output_type": "execute_result",
          "data": {
            "text/plain": [
              "0    200592\n",
              "1     18581\n",
              "Name: owns_email, dtype: int64"
            ]
          },
          "metadata": {
            "tags": []
          },
          "execution_count": 37
        }
      ]
    },
    {
      "cell_type": "code",
      "metadata": {
        "colab": {
          "base_uri": "https://localhost:8080/",
          "height": 409
        },
        "id": "bupryDBqyxZx",
        "outputId": "74a0b993-7c3e-4992-e677-25760df17568"
      },
      "source": [
        "# create a bar plot of the 'income_type' variable\n",
        "fig=plt.figure()\n",
        "bx=fig.add_axes([0,0,1,1])\n",
        "data.income_type.value_counts().plot(kind = 'bar', rot = 15, \n",
        "                                    color = sns.color_palette('rocket', data.income_type.nunique()))\n",
        "bx.set_xlabel('Income Type')\n",
        "bx.set_title('Distribution of Income Type')\n",
        "bx.set_xticklabels(['working','commercial associate','pensioner','state servant','student'])\n",
        "plt.tick_params(axis=\"x\",direction=\"out\",length=4,width=2,pad=10,labelsize=10,labelbottom=True,labelrotation=20);\n",
        "plt.xticks(ha = 'right');\n"
      ],
      "execution_count": null,
      "outputs": [
        {
          "output_type": "display_data",
          "data": {
            "image/png": "[encoded data removed]",
            "text/plain": [
              "<Figure size 432x288 with 1 Axes>"
            ]
          },
          "metadata": {
            "tags": [],
            "needs_background": "light"
          }
        }
      ]
    },
    {
      "cell_type": "code",
      "metadata": {
        "id": "hlJe3IhdzX3y",
        "colab": {
          "base_uri": "https://localhost:8080/",
          "height": 403
        },
        "outputId": "782ff1c3-f070-4b3d-8adc-fc3b4f5b11e8"
      },
      "source": [
        "# create a bar plot of the 'education_type' variable\n",
        "fig=plt.figure()\n",
        "dx=fig.add_axes([0,0,1,1])\n",
        "data.education_type.value_counts().plot(kind = 'bar', rot = 15, \n",
        "                                    color = sns.color_palette('rocket', data.education_type.nunique()))\n",
        "dx.set_xlabel('Education Type')\n",
        "dx.set_title('Distribution of Education Type')\n",
        "dx.set_xticklabels(['secondary','higher education','incomplete higher','lower secondary','academic degree'])\n",
        "plt.tick_params(axis=\"x\",direction=\"out\",length=4,width=2,pad=10,labelsize=10,labelbottom=True,labelrotation=20)\n",
        "plt.xticks(ha = 'right');\n"
      ],
      "execution_count": null,
      "outputs": [
        {
          "output_type": "display_data",
          "data": {
            "image/png": "[encoded data removed]",
            "text/plain": [
              "<Figure size 432x288 with 1 Axes>"
            ]
          },
          "metadata": {
            "tags": [],
            "needs_background": "light"
          }
        }
      ]
    },
    {
      "cell_type": "code",
      "metadata": {
        "colab": {
          "base_uri": "https://localhost:8080/",
          "height": 396
        },
        "id": "2d1NtsSY0Iu7",
        "outputId": "e1a62166-1fb0-4884-f28a-82c2fe256c79"
      },
      "source": [
        "# create a bar plot of the 'family_status' variable\n",
        "fig=plt.figure()\n",
        "fx=fig.add_axes([0,0,1,1])\n",
        "data.family_status.value_counts().plot(kind = 'bar', rot = 15, \n",
        "                                    color = sns.color_palette('rocket', data.family_status.nunique()))\n",
        "fx.set_xlabel('Family Status')\n",
        "fx.set_title('Distribution of Family Status')\n",
        "fx.set_xticklabels(['married','single','civil marriage','seperated','widow'])\n",
        "plt.tick_params(axis=\"x\",direction=\"out\",length=4,width=2,pad=10,labelsize=10,labelbottom=True,labelrotation=20)\n",
        "plt.xticks(ha = 'right');\n"
      ],
      "execution_count": null,
      "outputs": [
        {
          "output_type": "display_data",
          "data": {
            "image/png": "[encoded data removed]",
            "text/plain": [
              "<Figure size 432x288 with 1 Axes>"
            ]
          },
          "metadata": {
            "tags": [],
            "needs_background": "light"
          }
        }
      ]
    },
    {
      "cell_type": "code",
      "metadata": {
        "colab": {
          "base_uri": "https://localhost:8080/",
          "height": 408
        },
        "id": "7XSntxfx0kVG",
        "outputId": "ea782679-e938-4133-b0db-fe3149ed9047"
      },
      "source": [
        "# create a bar plot of the 'housing_type' variable\n",
        "fig=plt.figure()\n",
        "gx=fig.add_axes([0,0,1,1])\n",
        "data.housing_type.value_counts().plot(kind = 'bar', rot = 15, \n",
        "                                    color = sns.color_palette('rocket', data.housing_type.nunique()))\n",
        "gx.set_xlabel('Housing Type')\n",
        "gx.set_title('Distribution of Housing Type')\n",
        "gx.set_xticklabels(['apartment','with parents','municipal apartment','rented apartment','office apartment','co-op apartment'])\n",
        "plt.tick_params(axis=\"x\",direction=\"out\",length=4,width=2,pad=10,labelsize=10,labelbottom=True,labelrotation=20);\n",
        "plt.xticks(ha = 'right');\n"
      ],
      "execution_count": null,
      "outputs": [
        {
          "output_type": "display_data",
          "data": {
            "image/png": "[encoded data removed]",
            "text/plain": [
              "<Figure size 432x288 with 1 Axes>"
            ]
          },
          "metadata": {
            "tags": [],
            "needs_background": "light"
          }
        }
      ]
    },
    {
      "cell_type": "markdown",
      "metadata": {
        "id": "REv4GMbJ1nVE"
      },
      "source": [
        "Continuous Data"
      ]
    },
    {
      "cell_type": "code",
      "metadata": {
        "colab": {
          "base_uri": "https://localhost:8080/",
          "height": 404
        },
        "id": "uF9lWpPj1zKN",
        "outputId": "8da09e17-9c31-4dc1-bad3-c3ca76e045bf"
      },
      "source": [
        "# create a bar plot of the 'no_of_children' variable\n",
        "plt.figure(figsize = (8, 6))\n",
        "data.no_of_children.value_counts().plot(kind = 'bar', rot = 0)\n",
        "plt.xlabel('No of Children')\n",
        "plt.title('Distribution of Children')\n",
        "plt.show()"
      ],
      "execution_count": null,
      "outputs": [
        {
          "output_type": "display_data",
          "data": {
            "image/png": "[encoded data removed]",
            "text/plain": [
              "<Figure size 576x432 with 1 Axes>"
            ]
          },
          "metadata": {
            "tags": [],
            "needs_background": "light"
          }
        }
      ]
    },
    {
      "cell_type": "code",
      "metadata": {
        "id": "2yOd275f8xpx",
        "colab": {
          "base_uri": "https://localhost:8080/",
          "height": 404
        },
        "outputId": "9e637c1e-54db-48a2-930a-904a8a23cbbc"
      },
      "source": [
        "# create a bar plot of the 'family_size' variable\n",
        "plt.figure(figsize = (8, 6))\n",
        "data.family_size.value_counts().plot(kind = 'bar', rot = 0)\n",
        "plt.xlabel('Family Size')\n",
        "plt.title('Family Size')\n",
        "plt.show()"
      ],
      "execution_count": null,
      "outputs": [
        {
          "output_type": "display_data",
          "data": {
            "image/png": "[encoded data removed]",
            "text/plain": [
              "<Figure size 576x432 with 1 Axes>"
            ]
          },
          "metadata": {
            "tags": [],
            "needs_background": "light"
          }
        }
      ]
    },
    {
      "cell_type": "code",
      "metadata": {
        "colab": {
          "base_uri": "https://localhost:8080/",
          "height": 346
        },
        "id": "9laoSKlf9dfP",
        "outputId": "79320953-6491-477b-cfff-2c575cc68f2b"
      },
      "source": [
        "#Plot for income distribution\n",
        "income = pd.Series(data.total_income, name=\"income\")\n",
        "sns.distplot(income)\n",
        "plt.show()"
      ],
      "execution_count": null,
      "outputs": [
        {
          "output_type": "stream",
          "text": [
            "/usr/local/lib/python3.6/dist-packages/seaborn/distributions.py:2551: FutureWarning: `distplot` is a deprecated function and will be removed in a future version. Please adapt your code to use either `displot` (a figure-level function with similar flexibility) or `histplot` (an axes-level function for histograms).\n",
            "  warnings.warn(msg, FutureWarning)\n"
          ],
          "name": "stderr"
        },
        {
          "output_type": "display_data",
          "data": {
            "image/png": "[encoded data removed]",
            "text/plain": [
              "<Figure size 432x288 with 1 Axes>"
            ]
          },
          "metadata": {
            "tags": [],
            "needs_background": "light"
          }
        }
      ]
    },
    {
      "cell_type": "code",
      "metadata": {
        "colab": {
          "base_uri": "https://localhost:8080/",
          "height": 338
        },
        "id": "_kQQwYc4HDPq",
        "outputId": "5e6eb358-ca2b-46d9-bc8b-999e5eafd8c2"
      },
      "source": [
        "#Birth days\n",
        "birth_days = data.birthday.apply(lambda x: int(-x // 365))\n",
        "sns.distplot(birth_days)\n",
        "plt.show()"
      ],
      "execution_count": null,
      "outputs": [
        {
          "output_type": "stream",
          "text": [
            "/usr/local/lib/python3.6/dist-packages/seaborn/distributions.py:2551: FutureWarning: `distplot` is a deprecated function and will be removed in a future version. Please adapt your code to use either `displot` (a figure-level function with similar flexibility) or `histplot` (an axes-level function for histograms).\n",
            "  warnings.warn(msg, FutureWarning)\n"
          ],
          "name": "stderr"
        },
        {
          "output_type": "display_data",
          "data": {
            "image/png": "[encoded data removed]",
            "text/plain": [
              "<Figure size 432x288 with 1 Axes>"
            ]
          },
          "metadata": {
            "tags": [],
            "needs_background": "light"
          }
        }
      ]
    },
    {
      "cell_type": "code",
      "metadata": {
        "colab": {
          "base_uri": "https://localhost:8080/",
          "height": 335
        },
        "id": "fsQDIPhXJH8l",
        "outputId": "b9198a16-80e3-465a-e6e9-bb288175daf0"
      },
      "source": [
        "#Employment duration\n",
        "employment_duration = data[data.employment_duration<0].employment_duration.apply(lambda x: int(-x // 365))\n",
        "sns.distplot(employment_duration)\n",
        "plt.show()"
      ],
      "execution_count": null,
      "outputs": [
        {
          "output_type": "stream",
          "text": [
            "/usr/local/lib/python3.6/dist-packages/seaborn/distributions.py:2551: FutureWarning: `distplot` is a deprecated function and will be removed in a future version. Please adapt your code to use either `displot` (a figure-level function with similar flexibility) or `histplot` (an axes-level function for histograms).\n",
            "  warnings.warn(msg, FutureWarning)\n"
          ],
          "name": "stderr"
        },
        {
          "output_type": "display_data",
          "data": {
            "image/png": "[encoded data removed]",
            "text/plain": [
              "<Figure size 432x288 with 1 Axes>"
            ]
          },
          "metadata": {
            "tags": [],
            "needs_background": "light"
          }
        }
      ]
    },
    {
      "cell_type": "markdown",
      "metadata": {
        "id": "ARhW4kbkKrQO"
      },
      "source": [
        "Bivariate Analysis"
      ]
    },
    {
      "cell_type": "code",
      "metadata": {
        "id": "UHeRRpqgKwou"
      },
      "source": [
        "corr = data.corr()"
      ],
      "execution_count": null,
      "outputs": []
    },
    {
      "cell_type": "code",
      "metadata": {
        "colab": {
          "base_uri": "https://localhost:8080/",
          "height": 386
        },
        "id": "8xcFljaHLR7E",
        "outputId": "75f3f187-f7fc-4436-c976-de7e0ca35b95"
      },
      "source": [
        "# create a heatmap of the correlations of the variables in the dataset\n",
        "\n",
        "\n",
        "\n",
        "# Generate heat map, allow annotations and place floats in map\n",
        "sns.heatmap(corr, annot = True, fmt = \".2f\")"
      ],
      "execution_count": null,
      "outputs": [
        {
          "output_type": "execute_result",
          "data": {
            "text/plain": [
              "<matplotlib.axes._subplots.AxesSubplot at 0x7f4102102470>"
            ]
          },
          "metadata": {
            "tags": []
          },
          "execution_count": 48
        },
        {
          "output_type": "display_data",
          "data": {
            "image/png": "[encoded data removed]",
            "text/plain": [
              "<Figure size 432x288 with 2 Axes>"
            ]
          },
          "metadata": {
            "tags": [],
            "needs_background": "light"
          }
        }
      ]
    },
    {
      "cell_type": "code",
      "metadata": {
        "colab": {
          "base_uri": "https://localhost:8080/",
          "height": 280
        },
        "id": "AjKLhVUAPjJX",
        "scrolled": true,
        "outputId": "818962fa-3701-41b9-d262-a2d5e5dd5164"
      },
      "source": [
        "#boxplot for family size against dafault status\n",
        "sns.boxplot(x = 'default_status', y = 'family_size', data = data)\n",
        "plt.show()"
      ],
      "execution_count": null,
      "outputs": [
        {
          "output_type": "display_data",
          "data": {
            "image/png": "[encoded data removed]",
            "text/plain": [
              "<Figure size 432x288 with 1 Axes>"
            ]
          },
          "metadata": {
            "tags": [],
            "needs_background": "light"
          }
        }
      ]
    },
    {
      "cell_type": "code",
      "metadata": {
        "colab": {
          "base_uri": "https://localhost:8080/",
          "height": 291
        },
        "id": "ZEoF9jB1QaKo",
        "outputId": "57fb6f47-882e-4e63-866c-4c7ec660c39d"
      },
      "source": [
        "#violinplot for family size against dafault status\n",
        "sns.violinplot(x = 'default_status', y = 'total_income', data = data, size = 8)\n",
        "plt.show()"
      ],
      "execution_count": null,
      "outputs": [
        {
          "output_type": "display_data",
          "data": {
            "image/png": "[encoded data removed]",
            "text/plain": [
              "<Figure size 432x288 with 1 Axes>"
            ]
          },
          "metadata": {
            "tags": [],
            "needs_background": "light"
          }
        }
      ]
    },
    {
      "cell_type": "code",
      "metadata": {
        "id": "X9p12nY_RAPH"
      },
      "source": [
        "#Pair plot to show relationship between features in the dataset\n",
        "#sns.pairplot(data.sample(1000))"
      ],
      "execution_count": null,
      "outputs": []
    },
    {
      "cell_type": "markdown",
      "metadata": {
        "id": "GOYJ_qWVgDoE"
      },
      "source": [
        "## Feature selection for our model"
      ]
    },
    {
      "cell_type": "code",
      "metadata": {
        "colab": {
          "base_uri": "https://localhost:8080/",
          "height": 466
        },
        "id": "yd4eJpHHgDoF",
        "outputId": "2b016799-a69d-4fe4-9c07-9ca56a1b53c4"
      },
      "source": [
        "target=data['default_status']\n",
        "features=data[['owns_car','owns_property','no_of_children','total_income','income_type','education_type',\n",
        "                       'family_status','housing_type','employment_duration','has_work_phone','owns_phone','family_size']]\n",
        "feature_names=data.columns\n",
        "from yellowbrick.target import FeatureCorrelation\n",
        "visual=FeatureCorrelation(labels=feature_names,method='pearson')\n",
        "visual.fit(features,target)\n",
        "visual.poof()"
      ],
      "execution_count": null,
      "outputs": [
        {
          "output_type": "stream",
          "text": [
            "/usr/local/lib/python3.6/dist-packages/sklearn/utils/deprecation.py:144: FutureWarning: The sklearn.metrics.classification module is  deprecated in version 0.22 and will be removed in version 0.24. The corresponding classes / functions should instead be imported from sklearn.metrics. Anything that cannot be imported from sklearn.metrics is now part of the private API.\n",
            "  warnings.warn(message, FutureWarning)\n",
            "/usr/local/lib/python3.6/dist-packages/sklearn/base.py:197: FutureWarning: From version 0.24, get_params will raise an AttributeError if a parameter cannot be retrieved as an instance attribute. Previously it would return None.\n",
            "  FutureWarning)\n"
          ],
          "name": "stderr"
        },
        {
          "output_type": "display_data",
          "data": {
            "image/png": "[encoded data removed]",
            "text/plain": [
              "<Figure size 576x396 with 1 Axes>"
            ]
          },
          "metadata": {
            "tags": []
          }
        }
      ]
    },
    {
      "cell_type": "code",
      "metadata": {
        "id": "v6J8bK8wN-Br"
      },
      "source": [
        ""
      ],
      "execution_count": null,
      "outputs": []
    },
    {
      "cell_type": "code",
      "metadata": {
        "id": "XdXyzrLUgDoG"
      },
      "source": [
        "X=data[['gender','no_of_children','owns_car','owns_property','education_type','income_type','total_income','employment_duration']]\n",
        "Y=data['default_status']"
      ],
      "execution_count": null,
      "outputs": []
    },
    {
      "cell_type": "code",
      "metadata": {
        "id": "u5x2BzhOgDoH"
      },
      "source": [
        "from sklearn.linear_model import LogisticRegression\n",
        "from sklearn.tree import DecisionTreeClassifier\n"
      ],
      "execution_count": null,
      "outputs": []
    },
    {
      "cell_type": "code",
      "metadata": {
        "id": "5aSgjxcOgDoH"
      },
      "source": [
        "from sklearn.model_selection import train_test_split\n",
        "train_X,test_X,train_Y,test_Y=train_test_split(X,Y,train_size=0.75,\n",
        "                                               test_size=0.25,\n",
        "                                               random_state=123,\n",
        "                                              stratify =Y)"
      ],
      "execution_count": null,
      "outputs": []
    },
    {
      "cell_type": "code",
      "metadata": {
        "colab": {
          "base_uri": "https://localhost:8080/"
        },
        "id": "EcftDbq_gDoI",
        "outputId": "60520be0-01db-49b2-f0d0-be40aff707f7"
      },
      "source": [
        "print(\"Training data: \", train_X.shape)\n",
        "print(\"Test data: \", test_X.shape)"
      ],
      "execution_count": null,
      "outputs": [
        {
          "output_type": "stream",
          "text": [
            "Training data:  (164379, 8)\n",
            "Test data:  (54794, 8)\n"
          ],
          "name": "stdout"
        }
      ]
    },
    {
      "cell_type": "code",
      "metadata": {
        "id": "msc2WktogDoK"
      },
      "source": [
        "classifier=LogisticRegression(C=0.8,\n",
        "                           random_state=0,\n",
        "                           solver='lbfgs')"
      ],
      "execution_count": null,
      "outputs": []
    },
    {
      "cell_type": "code",
      "metadata": {
        "colab": {
          "base_uri": "https://localhost:8080/"
        },
        "id": "lIAX69vUgDoK",
        "outputId": "4350de74-58e5-478e-9399-8bb02e3eb11e"
      },
      "source": [
        "classifier.fit(train_X,train_Y)"
      ],
      "execution_count": null,
      "outputs": [
        {
          "output_type": "execute_result",
          "data": {
            "text/plain": [
              "LogisticRegression(C=0.8, class_weight=None, dual=False, fit_intercept=True,\n",
              "                   intercept_scaling=1, l1_ratio=None, max_iter=100,\n",
              "                   multi_class='auto', n_jobs=None, penalty='l2',\n",
              "                   random_state=0, solver='lbfgs', tol=0.0001, verbose=0,\n",
              "                   warm_start=False)"
            ]
          },
          "metadata": {
            "tags": []
          },
          "execution_count": 58
        }
      ]
    },
    {
      "cell_type": "code",
      "metadata": {
        "colab": {
          "base_uri": "https://localhost:8080/"
        },
        "id": "NjwS9tPigDoL",
        "outputId": "d28eb4a7-9e79-4c75-d03d-443efccc5bd6"
      },
      "source": [
        "prediction=classifier.predict(test_X) \n",
        "print(\"Predicted values:\", prediction)"
      ],
      "execution_count": null,
      "outputs": [
        {
          "output_type": "stream",
          "text": [
            "Predicted values: [0 0 0 ... 0 0 0]\n"
          ],
          "name": "stdout"
        }
      ]
    },
    {
      "cell_type": "code",
      "metadata": {
        "id": "UTsJ9ixbgDoM"
      },
      "source": [
        "from sklearn.metrics import accuracy_score, confusion_matrix"
      ],
      "execution_count": null,
      "outputs": []
    },
    {
      "cell_type": "code",
      "metadata": {
        "colab": {
          "base_uri": "https://localhost:8080/"
        },
        "id": "2EYW7saEgDoM",
        "scrolled": true,
        "outputId": "d65b0fb8-091e-417c-8eb7-d23b293e26de"
      },
      "source": [
        "from sklearn.metrics import plot_confusion_matrix\n",
        "print('Accuracy Score is {:.5}'.format(accuracy_score(test_Y, prediction)))\n",
        "print(pd.DataFrame(confusion_matrix(test_Y,prediction)))\n",
        "\n",
        "sns.set_style('white') \n",
        "class_names = ['0','1']"
      ],
      "execution_count": null,
      "outputs": [
        {
          "output_type": "stream",
          "text": [
            "Accuracy Score is 0.61932\n",
            "       0  1\n",
            "0  33935  0\n",
            "1  20859  0\n"
          ],
          "name": "stdout"
        }
      ]
    },
    {
      "cell_type": "code",
      "metadata": {
        "id": "KJy39_Y5gDoN"
      },
      "source": [
        "tree_classifier=DecisionTreeClassifier(max_depth=12,\n",
        "                               min_samples_split=8,\n",
        "                               random_state=1024)"
      ],
      "execution_count": null,
      "outputs": []
    },
    {
      "cell_type": "code",
      "metadata": {
        "colab": {
          "base_uri": "https://localhost:8080/"
        },
        "id": "WnCQ4vtbgDoO",
        "outputId": "7de2ded5-f09c-47bd-dfd0-fd1ac58bd0fa"
      },
      "source": [
        "tree_classifier.fit(train_X,train_Y)"
      ],
      "execution_count": null,
      "outputs": [
        {
          "output_type": "execute_result",
          "data": {
            "text/plain": [
              "DecisionTreeClassifier(ccp_alpha=0.0, class_weight=None, criterion='gini',\n",
              "                       max_depth=12, max_features=None, max_leaf_nodes=None,\n",
              "                       min_impurity_decrease=0.0, min_impurity_split=None,\n",
              "                       min_samples_leaf=1, min_samples_split=8,\n",
              "                       min_weight_fraction_leaf=0.0, presort='deprecated',\n",
              "                       random_state=1024, splitter='best')"
            ]
          },
          "metadata": {
            "tags": []
          },
          "execution_count": 63
        }
      ]
    },
    {
      "cell_type": "code",
      "metadata": {
        "colab": {
          "base_uri": "https://localhost:8080/"
        },
        "id": "P_yj77xagDoP",
        "outputId": "8ade6701-c43c-457f-b3bb-8c50c72bf7a1"
      },
      "source": [
        "tree_prediction=classifier.predict(test_X) \n",
        "print(\"Predicted values:\", tree_prediction)"
      ],
      "execution_count": null,
      "outputs": [
        {
          "output_type": "stream",
          "text": [
            "Predicted values: [0 0 0 ... 0 0 0]\n"
          ],
          "name": "stdout"
        }
      ]
    },
    {
      "cell_type": "code",
      "metadata": {
        "colab": {
          "base_uri": "https://localhost:8080/"
        },
        "id": "Efq-rguigDoP",
        "outputId": "120a0aef-5dfa-4231-f5c8-9f602d65c087"
      },
      "source": [
        "print('Accuracy Score is {:.5}'.format(accuracy_score(test_Y, tree_prediction)))\n",
        "print(pd.DataFrame(confusion_matrix(test_Y,tree_prediction)))"
      ],
      "execution_count": null,
      "outputs": [
        {
          "output_type": "stream",
          "text": [
            "Accuracy Score is 0.61932\n",
            "       0  1\n",
            "0  33935  0\n",
            "1  20859  0\n"
          ],
          "name": "stdout"
        }
      ]
    },
    {
      "cell_type": "code",
      "metadata": {
        "id": "1FGu2SG1gDoQ"
      },
      "source": [
        "\n",
        "from sklearn.ensemble import RandomForestClassifier\n",
        "\n"
      ],
      "execution_count": null,
      "outputs": []
    },
    {
      "cell_type": "code",
      "metadata": {
        "id": "BWB__EDOgDoT"
      },
      "source": [
        "\n",
        "forest_classifier=RandomForestClassifier(n_estimators=250,\n",
        "                              max_depth=12,\n",
        "                              min_samples_leaf=16)"
      ],
      "execution_count": null,
      "outputs": []
    },
    {
      "cell_type": "code",
      "metadata": {
        "colab": {
          "base_uri": "https://localhost:8080/"
        },
        "id": "Je0c-JCagDoZ",
        "outputId": "9095e307-40ce-490b-8806-d629866562ca"
      },
      "source": [
        "forest_classifier.fit(train_X,train_Y)"
      ],
      "execution_count": null,
      "outputs": [
        {
          "output_type": "execute_result",
          "data": {
            "text/plain": [
              "RandomForestClassifier(bootstrap=True, ccp_alpha=0.0, class_weight=None,\n",
              "                       criterion='gini', max_depth=12, max_features='auto',\n",
              "                       max_leaf_nodes=None, max_samples=None,\n",
              "                       min_impurity_decrease=0.0, min_impurity_split=None,\n",
              "                       min_samples_leaf=16, min_samples_split=2,\n",
              "                       min_weight_fraction_leaf=0.0, n_estimators=250,\n",
              "                       n_jobs=None, oob_score=False, random_state=None,\n",
              "                       verbose=0, warm_start=False)"
            ]
          },
          "metadata": {
            "tags": []
          },
          "execution_count": 68
        }
      ]
    },
    {
      "cell_type": "code",
      "metadata": {
        "colab": {
          "base_uri": "https://localhost:8080/"
        },
        "id": "_G1VH4LVgDoa",
        "outputId": "058dd9eb-4d3b-40b9-b11e-cf679aacbe0d"
      },
      "source": [
        "forest_prediction=forest_classifier.predict(test_X)\n",
        "print(\"Prediction values: \",forest_prediction)"
      ],
      "execution_count": null,
      "outputs": [
        {
          "output_type": "stream",
          "text": [
            "Prediction values:  [0 0 0 ... 0 0 0]\n"
          ],
          "name": "stdout"
        }
      ]
    },
    {
      "cell_type": "code",
      "metadata": {
        "colab": {
          "base_uri": "https://localhost:8080/"
        },
        "id": "bKlyK_dAgDoa",
        "outputId": "22bb8d23-0082-47ee-9c17-f4948ddaaea1"
      },
      "source": [
        "print('Accuracy Score is {:.5}'.format(accuracy_score(test_Y, forest_prediction)))\n",
        "print(pd.DataFrame(confusion_matrix(test_Y,forest_prediction)))"
      ],
      "execution_count": null,
      "outputs": [
        {
          "output_type": "stream",
          "text": [
            "Accuracy Score is 0.6706\n",
            "       0     1\n",
            "0  33391   544\n",
            "1  17505  3354\n"
          ],
          "name": "stdout"
        }
      ]
    },
    {
      "cell_type": "markdown",
      "metadata": {
        "id": "Mgz8mEhaGLsB"
      },
      "source": [
        "**Saving the model**"
      ]
    },
    {
      "cell_type": "code",
      "metadata": {
        "id": "w0A9Ts9Vj9WK"
      },
      "source": [
        "# picking the best algorithim and then saving your model\n",
        "#using joblib\n",
        "#joblib_file= \"joblib_classifier_model.pkl\"\n",
        "#joblib.dump(forest_classifier,joblib_file)\n",
        "#reload the saved model using joblib\n",
        "#score = joblib_model.score(test_X,test_Y)\n",
        "#print(\"Test score: {0: 2f} %\".format(100*score))\n",
        "#use it to predict the target values\n",
        "#predict_y=joblib_classifier_model.predict(test_X)"
      ],
      "execution_count": null,
      "outputs": []
    },
    {
      "cell_type": "code",
      "metadata": {
        "id": "_nkrrlrl70nq"
      },
      "source": [
        "from google.colab import drive\n",
        "drive.mount('/content/drive')"
      ],
      "execution_count": null,
      "outputs": []
    }
  ]
}